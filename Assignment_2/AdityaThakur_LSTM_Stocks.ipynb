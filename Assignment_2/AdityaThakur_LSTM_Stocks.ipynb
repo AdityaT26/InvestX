{
  "nbformat": 4,
  "nbformat_minor": 0,
  "metadata": {
    "colab": {
      "provenance": [],
      "include_colab_link": true
    },
    "kernelspec": {
      "name": "python3",
      "display_name": "Python 3"
    },
    "language_info": {
      "name": "python"
    },
    "gpuClass": "standard"
  },
  "cells": [
    {
      "cell_type": "markdown",
      "metadata": {
        "id": "view-in-github",
        "colab_type": "text"
      },
      "source": [
        "<a href=\"https://colab.research.google.com/github/AdityaT26/InvestX/blob/main/Assignment_2/AdityaThakur_LSTM_Stocks.ipynb\" target=\"_parent\"><img src=\"https://colab.research.google.com/assets/colab-badge.svg\" alt=\"Open In Colab\"/></a>"
      ]
    },
    {
      "cell_type": "code",
      "execution_count": 83,
      "metadata": {
        "id": "F3NmyDkdaw3f"
      },
      "outputs": [],
      "source": [
        "import numpy as np\n",
        "from tensorflow.keras.models import Sequential\n",
        "from tensorflow.keras.layers import LSTM\n",
        "from tensorflow.keras.layers import Dense, Dropout\n",
        "import pandas as pd\n",
        "from matplotlib import pyplot as plt\n",
        "from sklearn.preprocessing import StandardScaler\n",
        "import seaborn as sns"
      ]
    },
    {
      "cell_type": "code",
      "source": [
        "PRED_PERIOD = 50 #days"
      ],
      "metadata": {
        "id": "Hj6R3gHs-9-y"
      },
      "execution_count": 84,
      "outputs": []
    },
    {
      "cell_type": "code",
      "source": [
        "def getStock(n):\n",
        "  df = pd.read_csv('Train.csv')\n",
        "  stocks = {}\n",
        "\n",
        "  for i in range(1, df.shape[0]):\n",
        "    if i%150==0:\n",
        "      stocks[str(i//150)] = i\n",
        "      \n",
        "  return df.iloc[stocks[str(n)]-150:stocks[str(n)]]"
      ],
      "metadata": {
        "id": "-hzHDFYuBDmn"
      },
      "execution_count": 85,
      "outputs": []
    },
    {
      "cell_type": "code",
      "source": [
        "df = getStock(18)\n",
        "print(df.head(15))"
      ],
      "metadata": {
        "colab": {
          "base_uri": "https://localhost:8080/",
          "height": 0
        },
        "id": "9aH7bA5fdNV8",
        "outputId": "75d67294-1ca5-48e2-d641-4840656f8618"
      },
      "execution_count": 86,
      "outputs": [
        {
          "output_type": "stream",
          "name": "stdout",
          "text": [
            "            Date     Stock  liabilities      equity  total_assets  \\\n",
            "2550  2006-07-31  Stock 18   888.845961  511.726026   1400.571987   \n",
            "2551  2006-08-31  Stock 18   673.683058  447.539372   1121.222430   \n",
            "2552  2006-09-29  Stock 18   512.925508  678.085177   1191.010684   \n",
            "2553  2006-10-31  Stock 18   381.480935  333.714700    715.195635   \n",
            "2554  2006-11-30  Stock 18   132.887259  329.900539    462.787798   \n",
            "2555  2006-12-29  Stock 18   868.297426  687.169940   1555.467366   \n",
            "2556  2007-01-31  Stock 18   400.678168  572.176615    972.854783   \n",
            "2557  2007-02-28  Stock 18   933.921854  831.195402   1765.117257   \n",
            "2558  2007-03-30  Stock 18   581.443665  652.266359   1233.710023   \n",
            "2559  2007-04-30  Stock 18   879.005224  825.469725   1704.474950   \n",
            "2560  2007-05-31  Stock 18   630.438820  610.917515   1241.356336   \n",
            "2561  2007-06-29  Stock 18   658.729111  102.298488    761.027599   \n",
            "2562  2007-07-31  Stock 18   752.533061  948.697274   1701.230334   \n",
            "2563  2007-08-31  Stock 18   604.386047  436.499154   1040.885201   \n",
            "2564  2007-09-28  Stock 18   339.762559  340.899900    680.662458   \n",
            "\n",
            "      current_assets  current_liabilities  total_revenue  net_income  \\\n",
            "2550      903.025991          1150.039018     848.471936 -220.271354   \n",
            "2551      407.844664           494.259872     513.700088 -114.572284   \n",
            "2552      814.920948           969.252574     841.902205   57.141059   \n",
            "2553      267.882498           334.589292     658.269343 -195.914942   \n",
            "2554      140.640887           120.633467     981.670186 -185.804024   \n",
            "2555     1176.289422          1229.357835     934.417559 -406.458110   \n",
            "2556      649.639850           792.345087     681.526521  -19.532025   \n",
            "2557      567.204399           677.666431     558.960019 -198.761893   \n",
            "2558      689.977067           693.198510     617.918928  165.548073   \n",
            "2559     1085.151466          1155.522314     366.257299 -172.854776   \n",
            "2560      840.921340           916.834496     928.379412  310.928430   \n",
            "2561      570.488241           587.669321     251.528915   85.293741   \n",
            "2562      780.904915           738.692903     618.026912 -296.632671   \n",
            "2563      331.572810           314.930702     610.671806  203.178754   \n",
            "2564      258.807505           244.972232     642.588691  280.587748   \n",
            "\n",
            "       dividend  shares_outstanding       price  \n",
            "2550   0.000000             1007500  100.000000  \n",
            "2551   0.000000             1067788   98.512211  \n",
            "2552  11.908808             1095979   97.308362  \n",
            "2553   0.000000             1056445   97.230316  \n",
            "2554   0.000000             1084513   96.147446  \n",
            "2555   0.000000             1001337   95.185190  \n",
            "2556   0.000000             1020270   93.751711  \n",
            "2557   0.000000             1088687   92.934428  \n",
            "2558  35.942492             1024438   91.839328  \n",
            "2559   0.000000             1010043   92.198289  \n",
            "2560  68.344036             1077971   91.504907  \n",
            "2561  23.533573             1083938   92.148342  \n",
            "2562   0.000000             1005265   92.542664  \n",
            "2563  53.962940             1003085   91.825558  \n",
            "2564  81.861514             1035746   92.531898  \n"
          ]
        }
      ]
    },
    {
      "cell_type": "code",
      "source": [
        "cols = list(df)[2:12]\n",
        "print(cols)"
      ],
      "metadata": {
        "colab": {
          "base_uri": "https://localhost:8080/",
          "height": 0
        },
        "id": "YLtCdVuQdaqD",
        "outputId": "932dfe7d-21fe-4f16-c36d-f13f6696f990"
      },
      "execution_count": 87,
      "outputs": [
        {
          "output_type": "stream",
          "name": "stdout",
          "text": [
            "['liabilities', 'equity', 'total_assets', 'current_assets', 'current_liabilities', 'total_revenue', 'net_income', 'dividend', 'shares_outstanding', 'price']\n"
          ]
        }
      ]
    },
    {
      "cell_type": "code",
      "source": [
        "df_for_training = df[cols].astype(float)"
      ],
      "metadata": {
        "id": "kW6fJrsveCsy"
      },
      "execution_count": 88,
      "outputs": []
    },
    {
      "cell_type": "code",
      "source": [
        "scaler = StandardScaler()\n",
        "scaler = scaler.fit(df_for_training)\n",
        "df_for_training_scaled = scaler.transform(df_for_training)"
      ],
      "metadata": {
        "id": "sMJHDh0Eea0u"
      },
      "execution_count": 89,
      "outputs": []
    },
    {
      "cell_type": "code",
      "source": [
        "trainX = []\n",
        "trainY = []"
      ],
      "metadata": {
        "id": "UXLCuxpYefYU"
      },
      "execution_count": 90,
      "outputs": []
    },
    {
      "cell_type": "code",
      "source": [
        "n_future = 1   # Number of days we want to look into the future based on the past days.\n",
        "n_past = 14 # Number of past days we want to use to predict the future."
      ],
      "metadata": {
        "id": "SlZmQQHaepNo"
      },
      "execution_count": 91,
      "outputs": []
    },
    {
      "cell_type": "code",
      "source": [
        "for i in range(n_past, len(df_for_training_scaled) - n_future +1):\n",
        "    trainX.append(df_for_training_scaled[i - n_past:i, 0:df_for_training.shape[1]])\n",
        "    trainY.append(df_for_training_scaled[i + n_future - 1:i + n_future, 9])\n",
        "\n",
        "trainX, trainY = np.array(trainX), np.array(trainY)\n",
        "\n",
        "print('trainX shape == {}.'.format(trainX.shape))\n",
        "print('trainY shape == {}.'.format(trainY.shape))"
      ],
      "metadata": {
        "colab": {
          "base_uri": "https://localhost:8080/",
          "height": 0
        },
        "id": "9UGlhknUfFXB",
        "outputId": "14ddedd3-895c-4742-f09f-01b2202b480a"
      },
      "execution_count": 92,
      "outputs": [
        {
          "output_type": "stream",
          "name": "stdout",
          "text": [
            "trainX shape == (136, 14, 10).\n",
            "trainY shape == (136, 1).\n"
          ]
        }
      ]
    },
    {
      "cell_type": "code",
      "source": [
        "df_for_training_scaled"
      ],
      "metadata": {
        "colab": {
          "base_uri": "https://localhost:8080/",
          "height": 0
        },
        "id": "Mf2hun7pvqvf",
        "outputId": "2b8c4112-1be9-4062-f8c6-50871c87b0a8"
      },
      "execution_count": 93,
      "outputs": [
        {
          "output_type": "execute_result",
          "data": {
            "text/plain": [
              "array([[ 1.34769731, -0.2075005 ,  0.78124394, ..., -0.66843402,\n",
              "        -1.4876734 ,  0.72167519],\n",
              "       [ 0.55397571, -0.45167037,  0.0790287 , ..., -0.66843402,\n",
              "         0.49989299,  0.40480825],\n",
              "       [-0.03904816,  0.42533964,  0.254459  , ..., -0.18182422,\n",
              "         1.42928996,  0.14841433],\n",
              "       ...,\n",
              "       [ 0.66766715,  1.39656518,  1.37782933, ...,  0.89938138,\n",
              "        -0.92491202, -0.87666623],\n",
              "       [ 0.33838677, -0.11006542,  0.15785495, ..., -0.66843402,\n",
              "        -0.89886741, -0.77349136],\n",
              "       [-0.46009511,  0.8388819 ,  0.24081666, ..., -0.66843402,\n",
              "         0.4309572 , -0.82043577]])"
            ]
          },
          "metadata": {},
          "execution_count": 93
        }
      ]
    },
    {
      "cell_type": "code",
      "source": [
        "trainY"
      ],
      "metadata": {
        "colab": {
          "base_uri": "https://localhost:8080/",
          "height": 0
        },
        "id": "A4HvqbAkv1ZW",
        "outputId": "3e742f61-f874-4b76-cfe1-c5bbc068cdb0"
      },
      "execution_count": 94,
      "outputs": [
        {
          "output_type": "execute_result",
          "data": {
            "text/plain": [
              "array([[-0.8688693 ],\n",
              "       [-0.53583163],\n",
              "       [-0.26348901],\n",
              "       [-0.08524261],\n",
              "       [ 0.05687201],\n",
              "       [-0.22194498],\n",
              "       [-0.3472704 ],\n",
              "       [-0.23993415],\n",
              "       [-0.04746749],\n",
              "       [-0.0576935 ],\n",
              "       [-0.18988304],\n",
              "       [-0.26362731],\n",
              "       [-0.4731528 ],\n",
              "       [-0.34949121],\n",
              "       [-0.09032551],\n",
              "       [-0.02116352],\n",
              "       [ 0.16508784],\n",
              "       [ 0.39130931],\n",
              "       [ 0.61244202],\n",
              "       [ 0.90502713],\n",
              "       [ 0.84479504],\n",
              "       [ 0.97219503],\n",
              "       [ 0.76819429],\n",
              "       [ 0.87368395],\n",
              "       [ 1.08996225],\n",
              "       [ 0.99072017],\n",
              "       [ 0.80993916],\n",
              "       [ 0.93398175],\n",
              "       [ 0.69579838],\n",
              "       [ 0.61057847],\n",
              "       [ 0.49864628],\n",
              "       [ 0.66815614],\n",
              "       [ 1.02892285],\n",
              "       [ 1.35636478],\n",
              "       [ 1.25683559],\n",
              "       [ 1.40924397],\n",
              "       [ 1.57209585],\n",
              "       [ 1.66403808],\n",
              "       [ 1.89812137],\n",
              "       [ 1.82780182],\n",
              "       [ 1.95922883],\n",
              "       [ 1.89868417],\n",
              "       [ 2.08874004],\n",
              "       [ 1.79761781],\n",
              "       [ 1.62992205],\n",
              "       [ 1.77093114],\n",
              "       [ 1.97780439],\n",
              "       [ 1.76264579],\n",
              "       [ 1.46941088],\n",
              "       [ 1.52224199],\n",
              "       [ 1.81500127],\n",
              "       [ 1.52432802],\n",
              "       [ 1.19292178],\n",
              "       [ 0.96190819],\n",
              "       [ 0.74536505],\n",
              "       [ 0.93117347],\n",
              "       [ 1.18569288],\n",
              "       [ 1.22288129],\n",
              "       [ 1.08254504],\n",
              "       [ 0.851197  ],\n",
              "       [ 0.85598814],\n",
              "       [ 1.00326423],\n",
              "       [ 0.96430173],\n",
              "       [ 1.04827993],\n",
              "       [ 1.21561361],\n",
              "       [ 1.20565338],\n",
              "       [ 0.99182661],\n",
              "       [ 0.70400503],\n",
              "       [ 0.57440789],\n",
              "       [ 0.46524795],\n",
              "       [ 0.56424687],\n",
              "       [ 0.35874553],\n",
              "       [-0.01128136],\n",
              "       [-0.24139235],\n",
              "       [-0.4776603 ],\n",
              "       [-0.77774966],\n",
              "       [-1.01264411],\n",
              "       [-1.27157296],\n",
              "       [-1.12409036],\n",
              "       [-1.17647957],\n",
              "       [-1.26622235],\n",
              "       [-1.40902922],\n",
              "       [-1.22393278],\n",
              "       [-1.08087147],\n",
              "       [-0.94393958],\n",
              "       [-0.92467372],\n",
              "       [-0.89759993],\n",
              "       [-0.9663434 ],\n",
              "       [-0.71139551],\n",
              "       [-0.5675739 ],\n",
              "       [-0.67117183],\n",
              "       [-0.86382921],\n",
              "       [-0.66839311],\n",
              "       [-0.42959338],\n",
              "       [-0.17561239],\n",
              "       [-0.26745469],\n",
              "       [-0.46622918],\n",
              "       [-0.66068257],\n",
              "       [-0.56084341],\n",
              "       [-0.4778472 ],\n",
              "       [-0.38198324],\n",
              "       [-0.45469113],\n",
              "       [-0.57921075],\n",
              "       [-0.51838902],\n",
              "       [-0.47497177],\n",
              "       [-0.57068858],\n",
              "       [-0.47704255],\n",
              "       [-0.25986185],\n",
              "       [ 0.02162522],\n",
              "       [-0.03116191],\n",
              "       [-0.12358982],\n",
              "       [-0.19969077],\n",
              "       [-0.34493237],\n",
              "       [-0.52639611],\n",
              "       [-0.72107157],\n",
              "       [-0.86333623],\n",
              "       [-1.0169373 ],\n",
              "       [-1.21641889],\n",
              "       [-1.55713147],\n",
              "       [-1.71508238],\n",
              "       [-1.52924121],\n",
              "       [-1.3591667 ],\n",
              "       [-1.41886891],\n",
              "       [-1.51533472],\n",
              "       [-1.46363031],\n",
              "       [-1.54873197],\n",
              "       [-1.42437114],\n",
              "       [-1.50768597],\n",
              "       [-1.39512331],\n",
              "       [-1.26919887],\n",
              "       [-0.93189879],\n",
              "       [-0.90928448],\n",
              "       [-0.83858297],\n",
              "       [-0.87666623],\n",
              "       [-0.77349136],\n",
              "       [-0.82043577]])"
            ]
          },
          "metadata": {},
          "execution_count": 94
        }
      ]
    },
    {
      "cell_type": "code",
      "source": [
        "model = Sequential()\n",
        "model.add(LSTM(64, activation='relu', input_shape=(trainX.shape[1], trainX.shape[2]), return_sequences=True)) \n",
        "model.add(LSTM(32, activation='relu', return_sequences=False))\n",
        "model.add(Dropout(0.2))\n",
        "model.add(Dense(trainY.shape[1]))\n",
        "\n",
        "model.compile(optimizer='adam', loss='mse')\n",
        "model.summary()"
      ],
      "metadata": {
        "colab": {
          "base_uri": "https://localhost:8080/",
          "height": 0
        },
        "id": "xLJ_fEZ8foI3",
        "outputId": "c35eb1c1-140a-4f21-f5ee-5c1e854cf520"
      },
      "execution_count": 95,
      "outputs": [
        {
          "output_type": "stream",
          "name": "stdout",
          "text": [
            "Model: \"sequential_3\"\n",
            "_________________________________________________________________\n",
            " Layer (type)                Output Shape              Param #   \n",
            "=================================================================\n",
            " lstm_6 (LSTM)               (None, 14, 64)            19200     \n",
            "                                                                 \n",
            " lstm_7 (LSTM)               (None, 32)                12416     \n",
            "                                                                 \n",
            " dropout_3 (Dropout)         (None, 32)                0         \n",
            "                                                                 \n",
            " dense_3 (Dense)             (None, 1)                 33        \n",
            "                                                                 \n",
            "=================================================================\n",
            "Total params: 31,649\n",
            "Trainable params: 31,649\n",
            "Non-trainable params: 0\n",
            "_________________________________________________________________\n"
          ]
        }
      ]
    },
    {
      "cell_type": "code",
      "source": [
        "history = model.fit(trainX, trainY, epochs=5, batch_size=3, validation_split=0.1, verbose=1)"
      ],
      "metadata": {
        "colab": {
          "base_uri": "https://localhost:8080/",
          "height": 0
        },
        "id": "gR-gELFqhCt3",
        "outputId": "238206a6-5678-4aab-a7fa-31d475460be8"
      },
      "execution_count": 96,
      "outputs": [
        {
          "output_type": "stream",
          "name": "stdout",
          "text": [
            "Epoch 1/5\n",
            "41/41 [==============================] - 3s 20ms/step - loss: 0.5302 - val_loss: 0.1047\n",
            "Epoch 2/5\n",
            "41/41 [==============================] - 1s 13ms/step - loss: 0.1655 - val_loss: 0.4632\n",
            "Epoch 3/5\n",
            "41/41 [==============================] - 1s 13ms/step - loss: 0.0864 - val_loss: 0.0706\n",
            "Epoch 4/5\n",
            "41/41 [==============================] - 1s 13ms/step - loss: 0.1185 - val_loss: 0.0932\n",
            "Epoch 5/5\n",
            "41/41 [==============================] - 1s 13ms/step - loss: 0.0918 - val_loss: 0.0128\n"
          ]
        }
      ]
    },
    {
      "cell_type": "code",
      "source": [
        "plt.plot(history.history['loss'], label='Training loss')\n",
        "plt.plot(history.history['val_loss'], label='Validation loss')\n",
        "plt.legend()"
      ],
      "metadata": {
        "colab": {
          "base_uri": "https://localhost:8080/",
          "height": 447
        },
        "id": "ReHWBQ1VhKzd",
        "outputId": "9cfe2ab4-31f7-4c2a-ffb0-4fce19498309"
      },
      "execution_count": 97,
      "outputs": [
        {
          "output_type": "execute_result",
          "data": {
            "text/plain": [
              "<matplotlib.legend.Legend at 0x7f85c899b3d0>"
            ]
          },
          "metadata": {},
          "execution_count": 97
        },
        {
          "output_type": "display_data",
          "data": {
            "text/plain": [
              "<Figure size 640x480 with 1 Axes>"
            ],
            "image/png": "[encoded data removed]"
          },
          "metadata": {}
        }
      ]
    },
    {
      "cell_type": "code",
      "source": [
        "from pandas.tseries.holiday import USFederalHolidayCalendar\n",
        "from pandas.tseries.offsets import CustomBusinessDay\n",
        "us_bd = CustomBusinessDay(calendar=USFederalHolidayCalendar())"
      ],
      "metadata": {
        "id": "ncph6lCWjfQ_"
      },
      "execution_count": 98,
      "outputs": []
    },
    {
      "cell_type": "code",
      "source": [
        "df2= df.head(150)\n",
        "train_dates = pd.to_datetime(df2['Date'])\n",
        "print(train_dates.tail(15)) "
      ],
      "metadata": {
        "colab": {
          "base_uri": "https://localhost:8080/",
          "height": 0
        },
        "id": "DSZrHFBYj7iK",
        "outputId": "33f1e636-09b5-4493-caad-1b255e7bcfc3"
      },
      "execution_count": 99,
      "outputs": [
        {
          "output_type": "stream",
          "name": "stdout",
          "text": [
            "2685   2017-10-31\n",
            "2686   2017-11-30\n",
            "2687   2017-12-29\n",
            "2688   2018-01-31\n",
            "2689   2018-02-28\n",
            "2690   2018-03-30\n",
            "2691   2018-04-30\n",
            "2692   2018-05-31\n",
            "2693   2018-06-29\n",
            "2694   2018-07-31\n",
            "2695   2018-08-31\n",
            "2696   2018-09-28\n",
            "2697   2018-10-31\n",
            "2698   2018-11-30\n",
            "2699   2018-12-31\n",
            "Name: Date, dtype: datetime64[ns]\n"
          ]
        }
      ]
    },
    {
      "cell_type": "code",
      "source": [
        "n_past = 1\n",
        "n_days_for_prediction = PRED_PERIOD\n",
        "\n",
        "predict_period_dates = pd.date_range(list(train_dates)[-n_past], periods=n_days_for_prediction, freq='M').tolist()\n",
        "print(predict_period_dates)"
      ],
      "metadata": {
        "colab": {
          "base_uri": "https://localhost:8080/",
          "height": 0
        },
        "id": "yAZn0dxejZ-b",
        "outputId": "1441a973-be25-49e6-b9dc-1ec505390662"
      },
      "execution_count": 100,
      "outputs": [
        {
          "output_type": "stream",
          "name": "stdout",
          "text": [
            "[Timestamp('2018-12-31 00:00:00', freq='M'), Timestamp('2019-01-31 00:00:00', freq='M'), Timestamp('2019-02-28 00:00:00', freq='M'), Timestamp('2019-03-31 00:00:00', freq='M'), Timestamp('2019-04-30 00:00:00', freq='M'), Timestamp('2019-05-31 00:00:00', freq='M'), Timestamp('2019-06-30 00:00:00', freq='M'), Timestamp('2019-07-31 00:00:00', freq='M'), Timestamp('2019-08-31 00:00:00', freq='M'), Timestamp('2019-09-30 00:00:00', freq='M'), Timestamp('2019-10-31 00:00:00', freq='M'), Timestamp('2019-11-30 00:00:00', freq='M'), Timestamp('2019-12-31 00:00:00', freq='M'), Timestamp('2020-01-31 00:00:00', freq='M'), Timestamp('2020-02-29 00:00:00', freq='M'), Timestamp('2020-03-31 00:00:00', freq='M'), Timestamp('2020-04-30 00:00:00', freq='M'), Timestamp('2020-05-31 00:00:00', freq='M'), Timestamp('2020-06-30 00:00:00', freq='M'), Timestamp('2020-07-31 00:00:00', freq='M'), Timestamp('2020-08-31 00:00:00', freq='M'), Timestamp('2020-09-30 00:00:00', freq='M'), Timestamp('2020-10-31 00:00:00', freq='M'), Timestamp('2020-11-30 00:00:00', freq='M'), Timestamp('2020-12-31 00:00:00', freq='M'), Timestamp('2021-01-31 00:00:00', freq='M'), Timestamp('2021-02-28 00:00:00', freq='M'), Timestamp('2021-03-31 00:00:00', freq='M'), Timestamp('2021-04-30 00:00:00', freq='M'), Timestamp('2021-05-31 00:00:00', freq='M'), Timestamp('2021-06-30 00:00:00', freq='M'), Timestamp('2021-07-31 00:00:00', freq='M'), Timestamp('2021-08-31 00:00:00', freq='M'), Timestamp('2021-09-30 00:00:00', freq='M'), Timestamp('2021-10-31 00:00:00', freq='M'), Timestamp('2021-11-30 00:00:00', freq='M'), Timestamp('2021-12-31 00:00:00', freq='M'), Timestamp('2022-01-31 00:00:00', freq='M'), Timestamp('2022-02-28 00:00:00', freq='M'), Timestamp('2022-03-31 00:00:00', freq='M'), Timestamp('2022-04-30 00:00:00', freq='M'), Timestamp('2022-05-31 00:00:00', freq='M'), Timestamp('2022-06-30 00:00:00', freq='M'), Timestamp('2022-07-31 00:00:00', freq='M'), Timestamp('2022-08-31 00:00:00', freq='M'), Timestamp('2022-09-30 00:00:00', freq='M'), Timestamp('2022-10-31 00:00:00', freq='M'), Timestamp('2022-11-30 00:00:00', freq='M'), Timestamp('2022-12-31 00:00:00', freq='M'), Timestamp('2023-01-31 00:00:00', freq='M')]\n"
          ]
        }
      ]
    },
    {
      "cell_type": "code",
      "source": [
        "prediction = model.predict(trainX[-n_days_for_prediction:]) "
      ],
      "metadata": {
        "colab": {
          "base_uri": "https://localhost:8080/",
          "height": 0
        },
        "id": "omuhi-fFjuzK",
        "outputId": "ec7066f8-cc51-4cce-b454-7e2dbd3f1a55"
      },
      "execution_count": 101,
      "outputs": [
        {
          "output_type": "stream",
          "name": "stdout",
          "text": [
            "2/2 [==============================] - 0s 9ms/step\n"
          ]
        }
      ]
    },
    {
      "cell_type": "code",
      "source": [
        "prediction_copies = np.repeat(prediction, df_for_training.shape[1], axis=-1)\n",
        "y_pred_future = scaler.inverse_transform(prediction_copies)[:,9]"
      ],
      "metadata": {
        "id": "A68cGGUlkLp7"
      },
      "execution_count": 102,
      "outputs": []
    },
    {
      "cell_type": "code",
      "source": [
        "forecast_dates = []\n",
        "for time_i in predict_period_dates:\n",
        "    forecast_dates.append(time_i.date())\n",
        "    \n",
        "df_forecast = pd.DataFrame({'Date':np.array(forecast_dates), 'price':y_pred_future})\n",
        "df_forecast['Date']=pd.to_datetime(df_forecast['Date'])"
      ],
      "metadata": {
        "id": "RRg0e30rkPIK"
      },
      "execution_count": 103,
      "outputs": []
    },
    {
      "cell_type": "code",
      "source": [
        "original = df[['Date', 'price']]\n",
        "original['Date']=pd.to_datetime(original['Date'])\n",
        "original\n"
      ],
      "metadata": {
        "colab": {
          "base_uri": "https://localhost:8080/",
          "height": 548
        },
        "id": "7PbdmSaPkUK7",
        "outputId": "362ed4b8-5cb3-4d04-bead-dd87270a3b95"
      },
      "execution_count": 104,
      "outputs": [
        {
          "output_type": "stream",
          "name": "stderr",
          "text": [
            "<ipython-input-104-20f60c629b61>:2: SettingWithCopyWarning: \n",
            "A value is trying to be set on a copy of a slice from a DataFrame.\n",
            "Try using .loc[row_indexer,col_indexer] = value instead\n",
            "\n",
            "See the caveats in the documentation: https://pandas.pydata.org/pandas-docs/stable/user_guide/indexing.html#returning-a-view-versus-a-copy\n",
            "  original['Date']=pd.to_datetime(original['Date'])\n"
          ]
        },
        {
          "output_type": "execute_result",
          "data": {
            "text/plain": [
              "           Date       price\n",
              "2550 2006-07-31  100.000000\n",
              "2551 2006-08-31   98.512211\n",
              "2552 2006-09-29   97.308362\n",
              "2553 2006-10-31   97.230316\n",
              "2554 2006-11-30   96.147446\n",
              "...         ...         ...\n",
              "2695 2018-08-31   92.342137\n",
              "2696 2018-09-28   92.674102\n",
              "2697 2018-10-31   92.495289\n",
              "2698 2018-11-30   92.979728\n",
              "2699 2018-12-31   92.759309\n",
              "\n",
              "[150 rows x 2 columns]"
            ],
            "text/html": [
              "\n",
              "  <div id=\"df-6e9048fd-44de-45c1-b170-ebb92b9248da\">\n",
              "    <div class=\"colab-df-container\">\n",
              "      <div>\n",
              "<style scoped>\n",
              "    .dataframe tbody tr th:only-of-type {\n",
              "        vertical-align: middle;\n",
              "    }\n",
              "\n",
              "    .dataframe tbody tr th {\n",
              "        vertical-align: top;\n",
              "    }\n",
              "\n",
              "    .dataframe thead th {\n",
              "        text-align: right;\n",
              "    }\n",
              "</style>\n",
              "<table border=\"1\" class=\"dataframe\">\n",
              "  <thead>\n",
              "    <tr style=\"text-align: right;\">\n",
              "      <th></th>\n",
              "      <th>Date</th>\n",
              "      <th>price</th>\n",
              "    </tr>\n",
              "  </thead>\n",
              "  <tbody>\n",
              "    <tr>\n",
              "      <th>2550</th>\n",
              "      <td>2006-07-31</td>\n",
              "      <td>100.000000</td>\n",
              "    </tr>\n",
              "    <tr>\n",
              "      <th>2551</th>\n",
              "      <td>2006-08-31</td>\n",
              "      <td>98.512211</td>\n",
              "    </tr>\n",
              "    <tr>\n",
              "      <th>2552</th>\n",
              "      <td>2006-09-29</td>\n",
              "      <td>97.308362</td>\n",
              "    </tr>\n",
              "    <tr>\n",
              "      <th>2553</th>\n",
              "      <td>2006-10-31</td>\n",
              "      <td>97.230316</td>\n",
              "    </tr>\n",
              "    <tr>\n",
              "      <th>2554</th>\n",
              "      <td>2006-11-30</td>\n",
              "      <td>96.147446</td>\n",
              "    </tr>\n",
              "    <tr>\n",
              "      <th>...</th>\n",
              "      <td>...</td>\n",
              "      <td>...</td>\n",
              "    </tr>\n",
              "    <tr>\n",
              "      <th>2695</th>\n",
              "      <td>2018-08-31</td>\n",
              "      <td>92.342137</td>\n",
              "    </tr>\n",
              "    <tr>\n",
              "      <th>2696</th>\n",
              "      <td>2018-09-28</td>\n",
              "      <td>92.674102</td>\n",
              "    </tr>\n",
              "    <tr>\n",
              "      <th>2697</th>\n",
              "      <td>2018-10-31</td>\n",
              "      <td>92.495289</td>\n",
              "    </tr>\n",
              "    <tr>\n",
              "      <th>2698</th>\n",
              "      <td>2018-11-30</td>\n",
              "      <td>92.979728</td>\n",
              "    </tr>\n",
              "    <tr>\n",
              "      <th>2699</th>\n",
              "      <td>2018-12-31</td>\n",
              "      <td>92.759309</td>\n",
              "    </tr>\n",
              "  </tbody>\n",
              "</table>\n",
              "<p>150 rows × 2 columns</p>\n",
              "</div>\n",
              "      <button class=\"colab-df-convert\" onclick=\"convertToInteractive('df-6e9048fd-44de-45c1-b170-ebb92b9248da')\"\n",
              "              title=\"Convert this dataframe to an interactive table.\"\n",
              "              style=\"display:none;\">\n",
              "        \n",
              "  <svg xmlns=\"http://www.w3.org/2000/svg\" height=\"24px\"viewBox=\"0 0 24 24\"\n",
              "       width=\"24px\">\n",
              "    <path d=\"M0 0h24v24H0V0z\" fill=\"none\"/>\n",
              "    <path d=\"M18.56 5.44l.94 2.06.94-2.06 2.06-.94-2.06-.94-.94-2.06-.94 2.06-2.06.94zm-11 1L8.5 8.5l.94-2.06 2.06-.94-2.06-.94L8.5 2.5l-.94 2.06-2.06.94zm10 10l.94 2.06.94-2.06 2.06-.94-2.06-.94-.94-2.06-.94 2.06-2.06.94z\"/><path d=\"M17.41 7.96l-1.37-1.37c-.4-.4-.92-.59-1.43-.59-.52 0-1.04.2-1.43.59L10.3 9.45l-7.72 7.72c-.78.78-.78 2.05 0 2.83L4 21.41c.39.39.9.59 1.41.59.51 0 1.02-.2 1.41-.59l7.78-7.78 2.81-2.81c.8-.78.8-2.07 0-2.86zM5.41 20L4 18.59l7.72-7.72 1.47 1.35L5.41 20z\"/>\n",
              "  </svg>\n",
              "      </button>\n",
              "      \n",
              "  <style>\n",
              "    .colab-df-container {\n",
              "      display:flex;\n",
              "      flex-wrap:wrap;\n",
              "      gap: 12px;\n",
              "    }\n",
              "\n",
              "    .colab-df-convert {\n",
              "      background-color: #E8F0FE;\n",
              "      border: none;\n",
              "      border-radius: 50%;\n",
              "      cursor: pointer;\n",
              "      display: none;\n",
              "      fill: #1967D2;\n",
              "      height: 32px;\n",
              "      padding: 0 0 0 0;\n",
              "      width: 32px;\n",
              "    }\n",
              "\n",
              "    .colab-df-convert:hover {\n",
              "      background-color: #E2EBFA;\n",
              "      box-shadow: 0px 1px 2px rgba(60, 64, 67, 0.3), 0px 1px 3px 1px rgba(60, 64, 67, 0.15);\n",
              "      fill: #174EA6;\n",
              "    }\n",
              "\n",
              "    [theme=dark] .colab-df-convert {\n",
              "      background-color: #3B4455;\n",
              "      fill: #D2E3FC;\n",
              "    }\n",
              "\n",
              "    [theme=dark] .colab-df-convert:hover {\n",
              "      background-color: #434B5C;\n",
              "      box-shadow: 0px 1px 3px 1px rgba(0, 0, 0, 0.15);\n",
              "      filter: drop-shadow(0px 1px 2px rgba(0, 0, 0, 0.3));\n",
              "      fill: #FFFFFF;\n",
              "    }\n",
              "  </style>\n",
              "\n",
              "      <script>\n",
              "        const buttonEl =\n",
              "          document.querySelector('#df-6e9048fd-44de-45c1-b170-ebb92b9248da button.colab-df-convert');\n",
              "        buttonEl.style.display =\n",
              "          google.colab.kernel.accessAllowed ? 'block' : 'none';\n",
              "\n",
              "        async function convertToInteractive(key) {\n",
              "          const element = document.querySelector('#df-6e9048fd-44de-45c1-b170-ebb92b9248da');\n",
              "          const dataTable =\n",
              "            await google.colab.kernel.invokeFunction('convertToInteractive',\n",
              "                                                     [key], {});\n",
              "          if (!dataTable) return;\n",
              "\n",
              "          const docLinkHtml = 'Like what you see? Visit the ' +\n",
              "            '<a target=\"_blank\" href=https://colab.research.google.com/notebooks/data_table.ipynb>data table notebook</a>'\n",
              "            + ' to learn more about interactive tables.';\n",
              "          element.innerHTML = '';\n",
              "          dataTable['output_type'] = 'display_data';\n",
              "          await google.colab.output.renderOutput(dataTable, element);\n",
              "          const docLink = document.createElement('div');\n",
              "          docLink.innerHTML = docLinkHtml;\n",
              "          element.appendChild(docLink);\n",
              "        }\n",
              "      </script>\n",
              "    </div>\n",
              "  </div>\n",
              "  "
            ]
          },
          "metadata": {},
          "execution_count": 104
        }
      ]
    },
    {
      "cell_type": "code",
      "source": [
        "df_forecast"
      ],
      "metadata": {
        "colab": {
          "base_uri": "https://localhost:8080/",
          "height": 1617
        },
        "id": "uQKHlrzh2Jl6",
        "outputId": "7410ea78-a996-4f2b-f5c1-7b174318585e"
      },
      "execution_count": 105,
      "outputs": [
        {
          "output_type": "execute_result",
          "data": {
            "text/plain": [
              "         Date      price\n",
              "0  2018-12-31  93.186745\n",
              "1  2019-01-31  92.865837\n",
              "2  2019-02-28  93.868629\n",
              "3  2019-03-31  94.084122\n",
              "4  2019-04-30  93.966156\n",
              "5  2019-05-31  93.523506\n",
              "6  2019-06-30  94.393730\n",
              "7  2019-07-31  95.412086\n",
              "8  2019-08-31  96.358185\n",
              "9  2019-09-30  96.127808\n",
              "10 2019-10-31  95.408745\n",
              "11 2019-11-30  94.808418\n",
              "12 2019-12-31  94.824806\n",
              "13 2020-01-31  95.134148\n",
              "14 2020-02-29  95.008629\n",
              "15 2020-03-31  94.999283\n",
              "16 2020-04-30  94.556076\n",
              "17 2020-05-31  94.646820\n",
              "18 2020-06-30  94.953751\n",
              "19 2020-07-31  94.775703\n",
              "20 2020-08-31  94.598526\n",
              "21 2020-09-30  94.953529\n",
              "22 2020-10-31  95.683769\n",
              "23 2020-11-30  95.990891\n",
              "24 2020-12-31  96.175140\n",
              "25 2021-01-31  96.136055\n",
              "26 2021-02-28  95.432869\n",
              "27 2021-03-31  94.750137\n",
              "28 2021-04-30  94.049423\n",
              "29 2021-05-31  93.435394\n",
              "30 2021-06-30  92.617317\n",
              "31 2021-07-31  91.637268\n",
              "32 2021-08-31  90.238098\n",
              "33 2021-09-30  89.398438\n",
              "34 2021-10-31  89.561653\n",
              "35 2021-11-30  89.967232\n",
              "36 2021-12-31  89.522636\n",
              "37 2022-01-31  89.585403\n",
              "38 2022-02-28  90.105530\n",
              "39 2022-03-31  89.656372\n",
              "40 2022-04-30  89.625175\n",
              "41 2022-05-31  89.425964\n",
              "42 2022-06-30  89.839134\n",
              "43 2022-07-31  90.173111\n",
              "44 2022-08-31  92.068054\n",
              "45 2022-09-30  92.479927\n",
              "46 2022-10-31  93.369240\n",
              "47 2022-11-30  93.382713\n",
              "48 2022-12-31  93.692780\n",
              "49 2023-01-31  93.902069"
            ],
            "text/html": [
              "\n",
              "  <div id=\"df-43c1935d-1862-4088-9cb9-30a0fbb76406\">\n",
              "    <div class=\"colab-df-container\">\n",
              "      <div>\n",
              "<style scoped>\n",
              "    .dataframe tbody tr th:only-of-type {\n",
              "        vertical-align: middle;\n",
              "    }\n",
              "\n",
              "    .dataframe tbody tr th {\n",
              "        vertical-align: top;\n",
              "    }\n",
              "\n",
              "    .dataframe thead th {\n",
              "        text-align: right;\n",
              "    }\n",
              "</style>\n",
              "<table border=\"1\" class=\"dataframe\">\n",
              "  <thead>\n",
              "    <tr style=\"text-align: right;\">\n",
              "      <th></th>\n",
              "      <th>Date</th>\n",
              "      <th>price</th>\n",
              "    </tr>\n",
              "  </thead>\n",
              "  <tbody>\n",
              "    <tr>\n",
              "      <th>0</th>\n",
              "      <td>2018-12-31</td>\n",
              "      <td>93.186745</td>\n",
              "    </tr>\n",
              "    <tr>\n",
              "      <th>1</th>\n",
              "      <td>2019-01-31</td>\n",
              "      <td>92.865837</td>\n",
              "    </tr>\n",
              "    <tr>\n",
              "      <th>2</th>\n",
              "      <td>2019-02-28</td>\n",
              "      <td>93.868629</td>\n",
              "    </tr>\n",
              "    <tr>\n",
              "      <th>3</th>\n",
              "      <td>2019-03-31</td>\n",
              "      <td>94.084122</td>\n",
              "    </tr>\n",
              "    <tr>\n",
              "      <th>4</th>\n",
              "      <td>2019-04-30</td>\n",
              "      <td>93.966156</td>\n",
              "    </tr>\n",
              "    <tr>\n",
              "      <th>5</th>\n",
              "      <td>2019-05-31</td>\n",
              "      <td>93.523506</td>\n",
              "    </tr>\n",
              "    <tr>\n",
              "      <th>6</th>\n",
              "      <td>2019-06-30</td>\n",
              "      <td>94.393730</td>\n",
              "    </tr>\n",
              "    <tr>\n",
              "      <th>7</th>\n",
              "      <td>2019-07-31</td>\n",
              "      <td>95.412086</td>\n",
              "    </tr>\n",
              "    <tr>\n",
              "      <th>8</th>\n",
              "      <td>2019-08-31</td>\n",
              "      <td>96.358185</td>\n",
              "    </tr>\n",
              "    <tr>\n",
              "      <th>9</th>\n",
              "      <td>2019-09-30</td>\n",
              "      <td>96.127808</td>\n",
              "    </tr>\n",
              "    <tr>\n",
              "      <th>10</th>\n",
              "      <td>2019-10-31</td>\n",
              "      <td>95.408745</td>\n",
              "    </tr>\n",
              "    <tr>\n",
              "      <th>11</th>\n",
              "      <td>2019-11-30</td>\n",
              "      <td>94.808418</td>\n",
              "    </tr>\n",
              "    <tr>\n",
              "      <th>12</th>\n",
              "      <td>2019-12-31</td>\n",
              "      <td>94.824806</td>\n",
              "    </tr>\n",
              "    <tr>\n",
              "      <th>13</th>\n",
              "      <td>2020-01-31</td>\n",
              "      <td>95.134148</td>\n",
              "    </tr>\n",
              "    <tr>\n",
              "      <th>14</th>\n",
              "      <td>2020-02-29</td>\n",
              "      <td>95.008629</td>\n",
              "    </tr>\n",
              "    <tr>\n",
              "      <th>15</th>\n",
              "      <td>2020-03-31</td>\n",
              "      <td>94.999283</td>\n",
              "    </tr>\n",
              "    <tr>\n",
              "      <th>16</th>\n",
              "      <td>2020-04-30</td>\n",
              "      <td>94.556076</td>\n",
              "    </tr>\n",
              "    <tr>\n",
              "      <th>17</th>\n",
              "      <td>2020-05-31</td>\n",
              "      <td>94.646820</td>\n",
              "    </tr>\n",
              "    <tr>\n",
              "      <th>18</th>\n",
              "      <td>2020-06-30</td>\n",
              "      <td>94.953751</td>\n",
              "    </tr>\n",
              "    <tr>\n",
              "      <th>19</th>\n",
              "      <td>2020-07-31</td>\n",
              "      <td>94.775703</td>\n",
              "    </tr>\n",
              "    <tr>\n",
              "      <th>20</th>\n",
              "      <td>2020-08-31</td>\n",
              "      <td>94.598526</td>\n",
              "    </tr>\n",
              "    <tr>\n",
              "      <th>21</th>\n",
              "      <td>2020-09-30</td>\n",
              "      <td>94.953529</td>\n",
              "    </tr>\n",
              "    <tr>\n",
              "      <th>22</th>\n",
              "      <td>2020-10-31</td>\n",
              "      <td>95.683769</td>\n",
              "    </tr>\n",
              "    <tr>\n",
              "      <th>23</th>\n",
              "      <td>2020-11-30</td>\n",
              "      <td>95.990891</td>\n",
              "    </tr>\n",
              "    <tr>\n",
              "      <th>24</th>\n",
              "      <td>2020-12-31</td>\n",
              "      <td>96.175140</td>\n",
              "    </tr>\n",
              "    <tr>\n",
              "      <th>25</th>\n",
              "      <td>2021-01-31</td>\n",
              "      <td>96.136055</td>\n",
              "    </tr>\n",
              "    <tr>\n",
              "      <th>26</th>\n",
              "      <td>2021-02-28</td>\n",
              "      <td>95.432869</td>\n",
              "    </tr>\n",
              "    <tr>\n",
              "      <th>27</th>\n",
              "      <td>2021-03-31</td>\n",
              "      <td>94.750137</td>\n",
              "    </tr>\n",
              "    <tr>\n",
              "      <th>28</th>\n",
              "      <td>2021-04-30</td>\n",
              "      <td>94.049423</td>\n",
              "    </tr>\n",
              "    <tr>\n",
              "      <th>29</th>\n",
              "      <td>2021-05-31</td>\n",
              "      <td>93.435394</td>\n",
              "    </tr>\n",
              "    <tr>\n",
              "      <th>30</th>\n",
              "      <td>2021-06-30</td>\n",
              "      <td>92.617317</td>\n",
              "    </tr>\n",
              "    <tr>\n",
              "      <th>31</th>\n",
              "      <td>2021-07-31</td>\n",
              "      <td>91.637268</td>\n",
              "    </tr>\n",
              "    <tr>\n",
              "      <th>32</th>\n",
              "      <td>2021-08-31</td>\n",
              "      <td>90.238098</td>\n",
              "    </tr>\n",
              "    <tr>\n",
              "      <th>33</th>\n",
              "      <td>2021-09-30</td>\n",
              "      <td>89.398438</td>\n",
              "    </tr>\n",
              "    <tr>\n",
              "      <th>34</th>\n",
              "      <td>2021-10-31</td>\n",
              "      <td>89.561653</td>\n",
              "    </tr>\n",
              "    <tr>\n",
              "      <th>35</th>\n",
              "      <td>2021-11-30</td>\n",
              "      <td>89.967232</td>\n",
              "    </tr>\n",
              "    <tr>\n",
              "      <th>36</th>\n",
              "      <td>2021-12-31</td>\n",
              "      <td>89.522636</td>\n",
              "    </tr>\n",
              "    <tr>\n",
              "      <th>37</th>\n",
              "      <td>2022-01-31</td>\n",
              "      <td>89.585403</td>\n",
              "    </tr>\n",
              "    <tr>\n",
              "      <th>38</th>\n",
              "      <td>2022-02-28</td>\n",
              "      <td>90.105530</td>\n",
              "    </tr>\n",
              "    <tr>\n",
              "      <th>39</th>\n",
              "      <td>2022-03-31</td>\n",
              "      <td>89.656372</td>\n",
              "    </tr>\n",
              "    <tr>\n",
              "      <th>40</th>\n",
              "      <td>2022-04-30</td>\n",
              "      <td>89.625175</td>\n",
              "    </tr>\n",
              "    <tr>\n",
              "      <th>41</th>\n",
              "      <td>2022-05-31</td>\n",
              "      <td>89.425964</td>\n",
              "    </tr>\n",
              "    <tr>\n",
              "      <th>42</th>\n",
              "      <td>2022-06-30</td>\n",
              "      <td>89.839134</td>\n",
              "    </tr>\n",
              "    <tr>\n",
              "      <th>43</th>\n",
              "      <td>2022-07-31</td>\n",
              "      <td>90.173111</td>\n",
              "    </tr>\n",
              "    <tr>\n",
              "      <th>44</th>\n",
              "      <td>2022-08-31</td>\n",
              "      <td>92.068054</td>\n",
              "    </tr>\n",
              "    <tr>\n",
              "      <th>45</th>\n",
              "      <td>2022-09-30</td>\n",
              "      <td>92.479927</td>\n",
              "    </tr>\n",
              "    <tr>\n",
              "      <th>46</th>\n",
              "      <td>2022-10-31</td>\n",
              "      <td>93.369240</td>\n",
              "    </tr>\n",
              "    <tr>\n",
              "      <th>47</th>\n",
              "      <td>2022-11-30</td>\n",
              "      <td>93.382713</td>\n",
              "    </tr>\n",
              "    <tr>\n",
              "      <th>48</th>\n",
              "      <td>2022-12-31</td>\n",
              "      <td>93.692780</td>\n",
              "    </tr>\n",
              "    <tr>\n",
              "      <th>49</th>\n",
              "      <td>2023-01-31</td>\n",
              "      <td>93.902069</td>\n",
              "    </tr>\n",
              "  </tbody>\n",
              "</table>\n",
              "</div>\n",
              "      <button class=\"colab-df-convert\" onclick=\"convertToInteractive('df-43c1935d-1862-4088-9cb9-30a0fbb76406')\"\n",
              "              title=\"Convert this dataframe to an interactive table.\"\n",
              "              style=\"display:none;\">\n",
              "        \n",
              "  <svg xmlns=\"http://www.w3.org/2000/svg\" height=\"24px\"viewBox=\"0 0 24 24\"\n",
              "       width=\"24px\">\n",
              "    <path d=\"M0 0h24v24H0V0z\" fill=\"none\"/>\n",
              "    <path d=\"M18.56 5.44l.94 2.06.94-2.06 2.06-.94-2.06-.94-.94-2.06-.94 2.06-2.06.94zm-11 1L8.5 8.5l.94-2.06 2.06-.94-2.06-.94L8.5 2.5l-.94 2.06-2.06.94zm10 10l.94 2.06.94-2.06 2.06-.94-2.06-.94-.94-2.06-.94 2.06-2.06.94z\"/><path d=\"M17.41 7.96l-1.37-1.37c-.4-.4-.92-.59-1.43-.59-.52 0-1.04.2-1.43.59L10.3 9.45l-7.72 7.72c-.78.78-.78 2.05 0 2.83L4 21.41c.39.39.9.59 1.41.59.51 0 1.02-.2 1.41-.59l7.78-7.78 2.81-2.81c.8-.78.8-2.07 0-2.86zM5.41 20L4 18.59l7.72-7.72 1.47 1.35L5.41 20z\"/>\n",
              "  </svg>\n",
              "      </button>\n",
              "      \n",
              "  <style>\n",
              "    .colab-df-container {\n",
              "      display:flex;\n",
              "      flex-wrap:wrap;\n",
              "      gap: 12px;\n",
              "    }\n",
              "\n",
              "    .colab-df-convert {\n",
              "      background-color: #E8F0FE;\n",
              "      border: none;\n",
              "      border-radius: 50%;\n",
              "      cursor: pointer;\n",
              "      display: none;\n",
              "      fill: #1967D2;\n",
              "      height: 32px;\n",
              "      padding: 0 0 0 0;\n",
              "      width: 32px;\n",
              "    }\n",
              "\n",
              "    .colab-df-convert:hover {\n",
              "      background-color: #E2EBFA;\n",
              "      box-shadow: 0px 1px 2px rgba(60, 64, 67, 0.3), 0px 1px 3px 1px rgba(60, 64, 67, 0.15);\n",
              "      fill: #174EA6;\n",
              "    }\n",
              "\n",
              "    [theme=dark] .colab-df-convert {\n",
              "      background-color: #3B4455;\n",
              "      fill: #D2E3FC;\n",
              "    }\n",
              "\n",
              "    [theme=dark] .colab-df-convert:hover {\n",
              "      background-color: #434B5C;\n",
              "      box-shadow: 0px 1px 3px 1px rgba(0, 0, 0, 0.15);\n",
              "      filter: drop-shadow(0px 1px 2px rgba(0, 0, 0, 0.3));\n",
              "      fill: #FFFFFF;\n",
              "    }\n",
              "  </style>\n",
              "\n",
              "      <script>\n",
              "        const buttonEl =\n",
              "          document.querySelector('#df-43c1935d-1862-4088-9cb9-30a0fbb76406 button.colab-df-convert');\n",
              "        buttonEl.style.display =\n",
              "          google.colab.kernel.accessAllowed ? 'block' : 'none';\n",
              "\n",
              "        async function convertToInteractive(key) {\n",
              "          const element = document.querySelector('#df-43c1935d-1862-4088-9cb9-30a0fbb76406');\n",
              "          const dataTable =\n",
              "            await google.colab.kernel.invokeFunction('convertToInteractive',\n",
              "                                                     [key], {});\n",
              "          if (!dataTable) return;\n",
              "\n",
              "          const docLinkHtml = 'Like what you see? Visit the ' +\n",
              "            '<a target=\"_blank\" href=https://colab.research.google.com/notebooks/data_table.ipynb>data table notebook</a>'\n",
              "            + ' to learn more about interactive tables.';\n",
              "          element.innerHTML = '';\n",
              "          dataTable['output_type'] = 'display_data';\n",
              "          await google.colab.output.renderOutput(dataTable, element);\n",
              "          const docLink = document.createElement('div');\n",
              "          docLink.innerHTML = docLinkHtml;\n",
              "          element.appendChild(docLink);\n",
              "        }\n",
              "      </script>\n",
              "    </div>\n",
              "  </div>\n",
              "  "
            ]
          },
          "metadata": {},
          "execution_count": 105
        }
      ]
    },
    {
      "cell_type": "code",
      "source": [
        "original.plot(x='Date', y='price')\n",
        "f_forecast = pd.concat([original,df_forecast],axis=0)\n",
        "f_forecast.plot(x='Date',y='price')\n"
      ],
      "metadata": {
        "colab": {
          "base_uri": "https://localhost:8080/",
          "height": 871
        },
        "id": "RLBZ0Dddla_5",
        "outputId": "89e9abea-2814-48e1-e255-be01bb76e420"
      },
      "execution_count": 106,
      "outputs": [
        {
          "output_type": "execute_result",
          "data": {
            "text/plain": [
              "<Axes: xlabel='Date'>"
            ]
          },
          "metadata": {},
          "execution_count": 106
        },
        {
          "output_type": "display_data",
          "data": {
            "text/plain": [
              "<Figure size 640x480 with 1 Axes>"
            ],
            "image/png": "[encoded data removed]"
          },
          "metadata": {}
        },
        {
          "output_type": "display_data",
          "data": {
            "text/plain": [
              "<Figure size 640x480 with 1 Axes>"
            ],
            "image/png": "[encoded data removed]"
          },
          "metadata": {}
        }
      ]
    },
    {
      "cell_type": "code",
      "source": [
        "forcasted = df_forecast\n",
        "forcasted_values = forcasted.loc[:,\"price\"]\n",
        "forcasted_values = forcasted_values.tolist()\n",
        "og_prices = df['price'].values[100:]\n",
        "\n",
        "eff = []\n",
        "for i in range (0, len(og_prices)):\n",
        "  b = 100 - ((abs(og_prices[i] - forcasted_values[i]))/og_prices[i])*100\n",
        "  eff.append(b)\n",
        "  \n",
        "print(eff) "
      ],
      "metadata": {
        "colab": {
          "base_uri": "https://localhost:8080/",
          "height": 0
        },
        "id": "azq46eyM4dCJ",
        "outputId": "3e9e6cd8-3f46-4bee-d5fa-e2bc83f2dfb4"
      },
      "execution_count": 107,
      "outputs": [
        {
          "output_type": "stream",
          "name": "stdout",
          "text": [
            "[99.14526929852735, 99.14024810157757, 99.35956436115633, 99.85358958864798, 99.45858591021893, 98.9542033710811, 99.01518977236948, 99.13562478861836, 99.40364600690177, 99.19031570592954, 98.955411600502, 98.61081524310129, 99.09912027580316, 99.18798769897832, 99.79893182302747, 99.44675296207394, 99.29265431703338, 99.50167764881766, 99.39354487251367, 99.1017394369954, 99.75958986636971, 99.5409976433473, 98.93574007595156, 99.50831495678803, 99.85012920402077, 99.51694767050986, 99.53583061494281, 99.35179393051115, 99.11658795733578, 99.05192688502623, 99.14996470292925, 99.18897380847005, 98.94983001439797, 99.05173263550928, 99.85418247791385, 99.70900104460567, 99.52546404609079, 99.90070965757518, 99.59190745618672, 99.64557703878269, 99.6680863011142, 99.88105885868639, 99.75368043979353, 99.47147957586125, 99.81796563235415, 99.85078267049425, 99.24991167082966, 99.04057397003635, 99.23311027191694, 98.7680372430052]\n"
          ]
        }
      ]
    },
    {
      "cell_type": "code",
      "source": [
        "avgeff = np.average(eff)\n",
        "print(avgeff)"
      ],
      "metadata": {
        "colab": {
          "base_uri": "https://localhost:8080/",
          "height": 0
        },
        "id": "f2wcfT2942cn",
        "outputId": "dbec1549-ce72-4e65-ecda-4814afbe4bc1"
      },
      "execution_count": 108,
      "outputs": [
        {
          "output_type": "stream",
          "name": "stdout",
          "text": [
            "99.37029522210463\n"
          ]
        }
      ]
    }
  ]
}