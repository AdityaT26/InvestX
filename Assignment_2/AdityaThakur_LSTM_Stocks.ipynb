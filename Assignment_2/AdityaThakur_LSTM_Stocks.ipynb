{
  "nbformat": 4,
  "nbformat_minor": 0,
  "metadata": {
    "colab": {
      "provenance": [],
      "include_colab_link": true
    },
    "kernelspec": {
      "name": "python3",
      "display_name": "Python 3"
    },
    "language_info": {
      "name": "python"
    },
    "gpuClass": "standard"
  },
  "cells": [
    {
      "cell_type": "markdown",
      "metadata": {
        "id": "view-in-github",
        "colab_type": "text"
      },
      "source": [
        "<a href=\"https://colab.research.google.com/github/AdityaT26/InvestX/blob/main/Assignment_2/AdityaThakur_LSTM_Stocks.ipynb\" target=\"_parent\"><img src=\"https://colab.research.google.com/assets/colab-badge.svg\" alt=\"Open In Colab\"/></a>"
      ]
    },
    {
      "cell_type": "code",
      "execution_count": 111,
      "metadata": {
        "id": "F3NmyDkdaw3f"
      },
      "outputs": [],
      "source": [
        "import numpy as np\n",
        "from tensorflow.keras.models import Sequential\n",
        "from tensorflow.keras.layers import LSTM\n",
        "from tensorflow.keras.layers import Dense, Dropout\n",
        "import pandas as pd\n",
        "from matplotlib import pyplot as plt\n",
        "from sklearn.preprocessing import StandardScaler\n",
        "import seaborn as sns"
      ]
    },
    {
      "cell_type": "code",
      "source": [
        "PRED_PERIOD = 50 #days"
      ],
      "metadata": {
        "id": "Hj6R3gHs-9-y"
      },
      "execution_count": 112,
      "outputs": []
    },
    {
      "cell_type": "code",
      "source": [
        "def getStock(n):\n",
        "  df = pd.read_csv('Train.csv')\n",
        "  stocks = {}\n",
        "\n",
        "  for i in range(1, df.shape[0]):\n",
        "    if i%150==0:\n",
        "      stocks[str(i//150)] = i\n",
        "      \n",
        "  return df.iloc[stocks[str(n)]-150:stocks[str(n)]]"
      ],
      "metadata": {
        "id": "-hzHDFYuBDmn"
      },
      "execution_count": 113,
      "outputs": []
    },
    {
      "cell_type": "code",
      "source": [
        "df = getStock(18)\n",
        "print(df.head(15))"
      ],
      "metadata": {
        "colab": {
          "base_uri": "https://localhost:8080/"
        },
        "id": "9aH7bA5fdNV8",
        "outputId": "0f1bce66-9718-4b98-9dac-0aeb61af4dfd"
      },
      "execution_count": 114,
      "outputs": [
        {
          "output_type": "stream",
          "name": "stdout",
          "text": [
            "            Date     Stock  liabilities      equity  total_assets  \\\n",
            "2550  2006-07-31  Stock 18   888.845961  511.726026   1400.571987   \n",
            "2551  2006-08-31  Stock 18   673.683058  447.539372   1121.222430   \n",
            "2552  2006-09-29  Stock 18   512.925508  678.085177   1191.010684   \n",
            "2553  2006-10-31  Stock 18   381.480935  333.714700    715.195635   \n",
            "2554  2006-11-30  Stock 18   132.887259  329.900539    462.787798   \n",
            "2555  2006-12-29  Stock 18   868.297426  687.169940   1555.467366   \n",
            "2556  2007-01-31  Stock 18   400.678168  572.176615    972.854783   \n",
            "2557  2007-02-28  Stock 18   933.921854  831.195402   1765.117257   \n",
            "2558  2007-03-30  Stock 18   581.443665  652.266359   1233.710023   \n",
            "2559  2007-04-30  Stock 18   879.005224  825.469725   1704.474950   \n",
            "2560  2007-05-31  Stock 18   630.438820  610.917515   1241.356336   \n",
            "2561  2007-06-29  Stock 18   658.729111  102.298488    761.027599   \n",
            "2562  2007-07-31  Stock 18   752.533061  948.697274   1701.230334   \n",
            "2563  2007-08-31  Stock 18   604.386047  436.499154   1040.885201   \n",
            "2564  2007-09-28  Stock 18   339.762559  340.899900    680.662458   \n",
            "\n",
            "      current_assets  current_liabilities  total_revenue  net_income  \\\n",
            "2550      903.025991          1150.039018     848.471936 -220.271354   \n",
            "2551      407.844664           494.259872     513.700088 -114.572284   \n",
            "2552      814.920948           969.252574     841.902205   57.141059   \n",
            "2553      267.882498           334.589292     658.269343 -195.914942   \n",
            "2554      140.640887           120.633467     981.670186 -185.804024   \n",
            "2555     1176.289422          1229.357835     934.417559 -406.458110   \n",
            "2556      649.639850           792.345087     681.526521  -19.532025   \n",
            "2557      567.204399           677.666431     558.960019 -198.761893   \n",
            "2558      689.977067           693.198510     617.918928  165.548073   \n",
            "2559     1085.151466          1155.522314     366.257299 -172.854776   \n",
            "2560      840.921340           916.834496     928.379412  310.928430   \n",
            "2561      570.488241           587.669321     251.528915   85.293741   \n",
            "2562      780.904915           738.692903     618.026912 -296.632671   \n",
            "2563      331.572810           314.930702     610.671806  203.178754   \n",
            "2564      258.807505           244.972232     642.588691  280.587748   \n",
            "\n",
            "       dividend  shares_outstanding       price  \n",
            "2550   0.000000             1007500  100.000000  \n",
            "2551   0.000000             1067788   98.512211  \n",
            "2552  11.908808             1095979   97.308362  \n",
            "2553   0.000000             1056445   97.230316  \n",
            "2554   0.000000             1084513   96.147446  \n",
            "2555   0.000000             1001337   95.185190  \n",
            "2556   0.000000             1020270   93.751711  \n",
            "2557   0.000000             1088687   92.934428  \n",
            "2558  35.942492             1024438   91.839328  \n",
            "2559   0.000000             1010043   92.198289  \n",
            "2560  68.344036             1077971   91.504907  \n",
            "2561  23.533573             1083938   92.148342  \n",
            "2562   0.000000             1005265   92.542664  \n",
            "2563  53.962940             1003085   91.825558  \n",
            "2564  81.861514             1035746   92.531898  \n"
          ]
        }
      ]
    },
    {
      "cell_type": "code",
      "source": [
        "cols = list(df)[2:12]\n",
        "print(cols)"
      ],
      "metadata": {
        "colab": {
          "base_uri": "https://localhost:8080/"
        },
        "id": "YLtCdVuQdaqD",
        "outputId": "deb5ab49-f33d-4c5c-bb71-cb4e59590d97"
      },
      "execution_count": 115,
      "outputs": [
        {
          "output_type": "stream",
          "name": "stdout",
          "text": [
            "['liabilities', 'equity', 'total_assets', 'current_assets', 'current_liabilities', 'total_revenue', 'net_income', 'dividend', 'shares_outstanding', 'price']\n"
          ]
        }
      ]
    },
    {
      "cell_type": "code",
      "source": [
        "df_for_training = df[cols].astype(float)"
      ],
      "metadata": {
        "id": "kW6fJrsveCsy"
      },
      "execution_count": 116,
      "outputs": []
    },
    {
      "cell_type": "code",
      "source": [
        "scaler = StandardScaler()\n",
        "scaler = scaler.fit(df_for_training)\n",
        "df_for_training_scaled = scaler.transform(df_for_training)"
      ],
      "metadata": {
        "id": "sMJHDh0Eea0u"
      },
      "execution_count": 117,
      "outputs": []
    },
    {
      "cell_type": "code",
      "source": [
        "trainX = []\n",
        "trainY = []"
      ],
      "metadata": {
        "id": "UXLCuxpYefYU"
      },
      "execution_count": 118,
      "outputs": []
    },
    {
      "cell_type": "code",
      "source": [
        "n_future = 1   # Number of days we want to look into the future based on the past days.\n",
        "n_past = 14 # Number of past days we want to use to predict the future."
      ],
      "metadata": {
        "id": "SlZmQQHaepNo"
      },
      "execution_count": 119,
      "outputs": []
    },
    {
      "cell_type": "code",
      "source": [
        "for i in range(n_past, len(df_for_training_scaled) - n_future +1):\n",
        "    trainX.append(df_for_training_scaled[i - n_past:i, 0:df_for_training.shape[1]])\n",
        "    trainY.append(df_for_training_scaled[i + n_future - 1:i + n_future, 9])\n",
        "\n",
        "trainX, trainY = np.array(trainX), np.array(trainY)\n",
        "\n",
        "print('trainX shape == {}.'.format(trainX.shape))\n",
        "print('trainY shape == {}.'.format(trainY.shape))"
      ],
      "metadata": {
        "colab": {
          "base_uri": "https://localhost:8080/"
        },
        "id": "9UGlhknUfFXB",
        "outputId": "9c524b61-4c83-4a31-ea2c-09ab95e79756"
      },
      "execution_count": 120,
      "outputs": [
        {
          "output_type": "stream",
          "name": "stdout",
          "text": [
            "trainX shape == (136, 14, 10).\n",
            "trainY shape == (136, 1).\n"
          ]
        }
      ]
    },
    {
      "cell_type": "code",
      "source": [
        "df_for_training_scaled"
      ],
      "metadata": {
        "colab": {
          "base_uri": "https://localhost:8080/"
        },
        "id": "Mf2hun7pvqvf",
        "outputId": "c82d11ae-6a92-4672-a1aa-38db193d6e21"
      },
      "execution_count": 121,
      "outputs": [
        {
          "output_type": "execute_result",
          "data": {
            "text/plain": [
              "array([[ 1.34769731, -0.2075005 ,  0.78124394, ..., -0.66843402,\n",
              "        -1.4876734 ,  0.72167519],\n",
              "       [ 0.55397571, -0.45167037,  0.0790287 , ..., -0.66843402,\n",
              "         0.49989299,  0.40480825],\n",
              "       [-0.03904816,  0.42533964,  0.254459  , ..., -0.18182422,\n",
              "         1.42928996,  0.14841433],\n",
              "       ...,\n",
              "       [ 0.66766715,  1.39656518,  1.37782933, ...,  0.89938138,\n",
              "        -0.92491202, -0.87666623],\n",
              "       [ 0.33838677, -0.11006542,  0.15785495, ..., -0.66843402,\n",
              "        -0.89886741, -0.77349136],\n",
              "       [-0.46009511,  0.8388819 ,  0.24081666, ..., -0.66843402,\n",
              "         0.4309572 , -0.82043577]])"
            ]
          },
          "metadata": {},
          "execution_count": 121
        }
      ]
    },
    {
      "cell_type": "code",
      "source": [
        "trainY"
      ],
      "metadata": {
        "colab": {
          "base_uri": "https://localhost:8080/"
        },
        "id": "A4HvqbAkv1ZW",
        "outputId": "344d4045-434c-4d4e-fd79-483bbc8faa1a"
      },
      "execution_count": 122,
      "outputs": [
        {
          "output_type": "execute_result",
          "data": {
            "text/plain": [
              "array([[-0.8688693 ],\n",
              "       [-0.53583163],\n",
              "       [-0.26348901],\n",
              "       [-0.08524261],\n",
              "       [ 0.05687201],\n",
              "       [-0.22194498],\n",
              "       [-0.3472704 ],\n",
              "       [-0.23993415],\n",
              "       [-0.04746749],\n",
              "       [-0.0576935 ],\n",
              "       [-0.18988304],\n",
              "       [-0.26362731],\n",
              "       [-0.4731528 ],\n",
              "       [-0.34949121],\n",
              "       [-0.09032551],\n",
              "       [-0.02116352],\n",
              "       [ 0.16508784],\n",
              "       [ 0.39130931],\n",
              "       [ 0.61244202],\n",
              "       [ 0.90502713],\n",
              "       [ 0.84479504],\n",
              "       [ 0.97219503],\n",
              "       [ 0.76819429],\n",
              "       [ 0.87368395],\n",
              "       [ 1.08996225],\n",
              "       [ 0.99072017],\n",
              "       [ 0.80993916],\n",
              "       [ 0.93398175],\n",
              "       [ 0.69579838],\n",
              "       [ 0.61057847],\n",
              "       [ 0.49864628],\n",
              "       [ 0.66815614],\n",
              "       [ 1.02892285],\n",
              "       [ 1.35636478],\n",
              "       [ 1.25683559],\n",
              "       [ 1.40924397],\n",
              "       [ 1.57209585],\n",
              "       [ 1.66403808],\n",
              "       [ 1.89812137],\n",
              "       [ 1.82780182],\n",
              "       [ 1.95922883],\n",
              "       [ 1.89868417],\n",
              "       [ 2.08874004],\n",
              "       [ 1.79761781],\n",
              "       [ 1.62992205],\n",
              "       [ 1.77093114],\n",
              "       [ 1.97780439],\n",
              "       [ 1.76264579],\n",
              "       [ 1.46941088],\n",
              "       [ 1.52224199],\n",
              "       [ 1.81500127],\n",
              "       [ 1.52432802],\n",
              "       [ 1.19292178],\n",
              "       [ 0.96190819],\n",
              "       [ 0.74536505],\n",
              "       [ 0.93117347],\n",
              "       [ 1.18569288],\n",
              "       [ 1.22288129],\n",
              "       [ 1.08254504],\n",
              "       [ 0.851197  ],\n",
              "       [ 0.85598814],\n",
              "       [ 1.00326423],\n",
              "       [ 0.96430173],\n",
              "       [ 1.04827993],\n",
              "       [ 1.21561361],\n",
              "       [ 1.20565338],\n",
              "       [ 0.99182661],\n",
              "       [ 0.70400503],\n",
              "       [ 0.57440789],\n",
              "       [ 0.46524795],\n",
              "       [ 0.56424687],\n",
              "       [ 0.35874553],\n",
              "       [-0.01128136],\n",
              "       [-0.24139235],\n",
              "       [-0.4776603 ],\n",
              "       [-0.77774966],\n",
              "       [-1.01264411],\n",
              "       [-1.27157296],\n",
              "       [-1.12409036],\n",
              "       [-1.17647957],\n",
              "       [-1.26622235],\n",
              "       [-1.40902922],\n",
              "       [-1.22393278],\n",
              "       [-1.08087147],\n",
              "       [-0.94393958],\n",
              "       [-0.92467372],\n",
              "       [-0.89759993],\n",
              "       [-0.9663434 ],\n",
              "       [-0.71139551],\n",
              "       [-0.5675739 ],\n",
              "       [-0.67117183],\n",
              "       [-0.86382921],\n",
              "       [-0.66839311],\n",
              "       [-0.42959338],\n",
              "       [-0.17561239],\n",
              "       [-0.26745469],\n",
              "       [-0.46622918],\n",
              "       [-0.66068257],\n",
              "       [-0.56084341],\n",
              "       [-0.4778472 ],\n",
              "       [-0.38198324],\n",
              "       [-0.45469113],\n",
              "       [-0.57921075],\n",
              "       [-0.51838902],\n",
              "       [-0.47497177],\n",
              "       [-0.57068858],\n",
              "       [-0.47704255],\n",
              "       [-0.25986185],\n",
              "       [ 0.02162522],\n",
              "       [-0.03116191],\n",
              "       [-0.12358982],\n",
              "       [-0.19969077],\n",
              "       [-0.34493237],\n",
              "       [-0.52639611],\n",
              "       [-0.72107157],\n",
              "       [-0.86333623],\n",
              "       [-1.0169373 ],\n",
              "       [-1.21641889],\n",
              "       [-1.55713147],\n",
              "       [-1.71508238],\n",
              "       [-1.52924121],\n",
              "       [-1.3591667 ],\n",
              "       [-1.41886891],\n",
              "       [-1.51533472],\n",
              "       [-1.46363031],\n",
              "       [-1.54873197],\n",
              "       [-1.42437114],\n",
              "       [-1.50768597],\n",
              "       [-1.39512331],\n",
              "       [-1.26919887],\n",
              "       [-0.93189879],\n",
              "       [-0.90928448],\n",
              "       [-0.83858297],\n",
              "       [-0.87666623],\n",
              "       [-0.77349136],\n",
              "       [-0.82043577]])"
            ]
          },
          "metadata": {},
          "execution_count": 122
        }
      ]
    },
    {
      "cell_type": "code",
      "source": [
        "model = Sequential()\n",
        "model.add(LSTM(64, activation='relu', input_shape=(trainX.shape[1], trainX.shape[2]), return_sequences=True)) \n",
        "model.add(LSTM(32, activation='relu', return_sequences=False))\n",
        "model.add(Dropout(0.2))\n",
        "model.add(Dense(trainY.shape[1]))\n",
        "\n",
        "model.compile(optimizer='adam', loss='mse')\n",
        "model.summary()"
      ],
      "metadata": {
        "colab": {
          "base_uri": "https://localhost:8080/"
        },
        "id": "xLJ_fEZ8foI3",
        "outputId": "a8f6fae9-c67b-43f8-d870-e5d255890a02"
      },
      "execution_count": 123,
      "outputs": [
        {
          "output_type": "stream",
          "name": "stdout",
          "text": [
            "Model: \"sequential_4\"\n",
            "_________________________________________________________________\n",
            " Layer (type)                Output Shape              Param #   \n",
            "=================================================================\n",
            " lstm_8 (LSTM)               (None, 14, 64)            19200     \n",
            "                                                                 \n",
            " lstm_9 (LSTM)               (None, 32)                12416     \n",
            "                                                                 \n",
            " dropout_4 (Dropout)         (None, 32)                0         \n",
            "                                                                 \n",
            " dense_4 (Dense)             (None, 1)                 33        \n",
            "                                                                 \n",
            "=================================================================\n",
            "Total params: 31,649\n",
            "Trainable params: 31,649\n",
            "Non-trainable params: 0\n",
            "_________________________________________________________________\n"
          ]
        }
      ]
    },
    {
      "cell_type": "code",
      "source": [
        "history = model.fit(trainX, trainY, epochs=5, batch_size=3, validation_split=0.1, verbose=1)"
      ],
      "metadata": {
        "colab": {
          "base_uri": "https://localhost:8080/"
        },
        "id": "gR-gELFqhCt3",
        "outputId": "4f11e230-06f9-4cb7-cdf9-8e4bab49f6f1"
      },
      "execution_count": 124,
      "outputs": [
        {
          "output_type": "stream",
          "name": "stdout",
          "text": [
            "Epoch 1/5\n",
            "41/41 [==============================] - 3s 20ms/step - loss: 0.4950 - val_loss: 0.0464\n",
            "Epoch 2/5\n",
            "41/41 [==============================] - 1s 13ms/step - loss: 0.2388 - val_loss: 0.4715\n",
            "Epoch 3/5\n",
            "41/41 [==============================] - 1s 12ms/step - loss: 0.1045 - val_loss: 0.0849\n",
            "Epoch 4/5\n",
            "41/41 [==============================] - 1s 13ms/step - loss: 0.0774 - val_loss: 0.0313\n",
            "Epoch 5/5\n",
            "41/41 [==============================] - 0s 12ms/step - loss: 0.0810 - val_loss: 0.0446\n"
          ]
        }
      ]
    },
    {
      "cell_type": "code",
      "source": [
        "plt.plot(history.history['loss'], label='Training loss')\n",
        "plt.plot(history.history['val_loss'], label='Validation loss')\n",
        "plt.legend()"
      ],
      "metadata": {
        "colab": {
          "base_uri": "https://localhost:8080/",
          "height": 447
        },
        "id": "ReHWBQ1VhKzd",
        "outputId": "0ce2b91c-fde6-4d49-f3a5-018c91249e0d"
      },
      "execution_count": 125,
      "outputs": [
        {
          "output_type": "execute_result",
          "data": {
            "text/plain": [
              "<matplotlib.legend.Legend at 0x7f85c9a9b580>"
            ]
          },
          "metadata": {},
          "execution_count": 125
        },
        {
          "output_type": "display_data",
          "data": {
            "text/plain": [
              "<Figure size 640x480 with 1 Axes>"
            ],
            "image/png": "[encoded data removed]"
          },
          "metadata": {}
        }
      ]
    },
    {
      "cell_type": "code",
      "source": [
        "from pandas.tseries.holiday import USFederalHolidayCalendar\n",
        "from pandas.tseries.offsets import CustomBusinessDay\n",
        "us_bd = CustomBusinessDay(calendar=USFederalHolidayCalendar())"
      ],
      "metadata": {
        "id": "ncph6lCWjfQ_"
      },
      "execution_count": 126,
      "outputs": []
    },
    {
      "cell_type": "code",
      "source": [
        "df2= df.head(150)\n",
        "train_dates = pd.to_datetime(df2['Date'])\n",
        "print(train_dates.tail(15)) "
      ],
      "metadata": {
        "colab": {
          "base_uri": "https://localhost:8080/"
        },
        "id": "DSZrHFBYj7iK",
        "outputId": "08f80f23-71a7-4751-e6ae-c89bdff023d1"
      },
      "execution_count": 127,
      "outputs": [
        {
          "output_type": "stream",
          "name": "stdout",
          "text": [
            "2685   2017-10-31\n",
            "2686   2017-11-30\n",
            "2687   2017-12-29\n",
            "2688   2018-01-31\n",
            "2689   2018-02-28\n",
            "2690   2018-03-30\n",
            "2691   2018-04-30\n",
            "2692   2018-05-31\n",
            "2693   2018-06-29\n",
            "2694   2018-07-31\n",
            "2695   2018-08-31\n",
            "2696   2018-09-28\n",
            "2697   2018-10-31\n",
            "2698   2018-11-30\n",
            "2699   2018-12-31\n",
            "Name: Date, dtype: datetime64[ns]\n"
          ]
        }
      ]
    },
    {
      "cell_type": "code",
      "source": [
        "n_past = 1\n",
        "n_days_for_prediction = PRED_PERIOD\n",
        "\n",
        "predict_period_dates = pd.date_range(list(train_dates)[-n_past], periods=n_days_for_prediction, freq='M').tolist()\n",
        "print(predict_period_dates)"
      ],
      "metadata": {
        "colab": {
          "base_uri": "https://localhost:8080/"
        },
        "id": "yAZn0dxejZ-b",
        "outputId": "4a8055c8-bd19-48a9-f565-0898d2780a86"
      },
      "execution_count": 128,
      "outputs": [
        {
          "output_type": "stream",
          "name": "stdout",
          "text": [
            "[Timestamp('2018-12-31 00:00:00', freq='M'), Timestamp('2019-01-31 00:00:00', freq='M'), Timestamp('2019-02-28 00:00:00', freq='M'), Timestamp('2019-03-31 00:00:00', freq='M'), Timestamp('2019-04-30 00:00:00', freq='M'), Timestamp('2019-05-31 00:00:00', freq='M'), Timestamp('2019-06-30 00:00:00', freq='M'), Timestamp('2019-07-31 00:00:00', freq='M'), Timestamp('2019-08-31 00:00:00', freq='M'), Timestamp('2019-09-30 00:00:00', freq='M'), Timestamp('2019-10-31 00:00:00', freq='M'), Timestamp('2019-11-30 00:00:00', freq='M'), Timestamp('2019-12-31 00:00:00', freq='M'), Timestamp('2020-01-31 00:00:00', freq='M'), Timestamp('2020-02-29 00:00:00', freq='M'), Timestamp('2020-03-31 00:00:00', freq='M'), Timestamp('2020-04-30 00:00:00', freq='M'), Timestamp('2020-05-31 00:00:00', freq='M'), Timestamp('2020-06-30 00:00:00', freq='M'), Timestamp('2020-07-31 00:00:00', freq='M'), Timestamp('2020-08-31 00:00:00', freq='M'), Timestamp('2020-09-30 00:00:00', freq='M'), Timestamp('2020-10-31 00:00:00', freq='M'), Timestamp('2020-11-30 00:00:00', freq='M'), Timestamp('2020-12-31 00:00:00', freq='M'), Timestamp('2021-01-31 00:00:00', freq='M'), Timestamp('2021-02-28 00:00:00', freq='M'), Timestamp('2021-03-31 00:00:00', freq='M'), Timestamp('2021-04-30 00:00:00', freq='M'), Timestamp('2021-05-31 00:00:00', freq='M'), Timestamp('2021-06-30 00:00:00', freq='M'), Timestamp('2021-07-31 00:00:00', freq='M'), Timestamp('2021-08-31 00:00:00', freq='M'), Timestamp('2021-09-30 00:00:00', freq='M'), Timestamp('2021-10-31 00:00:00', freq='M'), Timestamp('2021-11-30 00:00:00', freq='M'), Timestamp('2021-12-31 00:00:00', freq='M'), Timestamp('2022-01-31 00:00:00', freq='M'), Timestamp('2022-02-28 00:00:00', freq='M'), Timestamp('2022-03-31 00:00:00', freq='M'), Timestamp('2022-04-30 00:00:00', freq='M'), Timestamp('2022-05-31 00:00:00', freq='M'), Timestamp('2022-06-30 00:00:00', freq='M'), Timestamp('2022-07-31 00:00:00', freq='M'), Timestamp('2022-08-31 00:00:00', freq='M'), Timestamp('2022-09-30 00:00:00', freq='M'), Timestamp('2022-10-31 00:00:00', freq='M'), Timestamp('2022-11-30 00:00:00', freq='M'), Timestamp('2022-12-31 00:00:00', freq='M'), Timestamp('2023-01-31 00:00:00', freq='M')]\n"
          ]
        }
      ]
    },
    {
      "cell_type": "code",
      "source": [
        "prediction = model.predict(trainX[-n_days_for_prediction:]) "
      ],
      "metadata": {
        "colab": {
          "base_uri": "https://localhost:8080/"
        },
        "id": "omuhi-fFjuzK",
        "outputId": "31903d1c-24ea-4400-bb53-b4848921c081"
      },
      "execution_count": 129,
      "outputs": [
        {
          "output_type": "stream",
          "name": "stderr",
          "text": [
            "WARNING:tensorflow:5 out of the last 9 calls to <function Model.make_predict_function.<locals>.predict_function at 0x7f85c8b69bd0> triggered tf.function retracing. Tracing is expensive and the excessive number of tracings could be due to (1) creating @tf.function repeatedly in a loop, (2) passing tensors with different shapes, (3) passing Python objects instead of tensors. For (1), please define your @tf.function outside of the loop. For (2), @tf.function has reduce_retracing=True option that can avoid unnecessary retracing. For (3), please refer to https://www.tensorflow.org/guide/function#controlling_retracing and https://www.tensorflow.org/api_docs/python/tf/function for  more details.\n"
          ]
        },
        {
          "output_type": "stream",
          "name": "stdout",
          "text": [
            "2/2 [==============================] - 0s 10ms/step\n"
          ]
        }
      ]
    },
    {
      "cell_type": "code",
      "source": [
        "prediction_copies = np.repeat(prediction, df_for_training.shape[1], axis=-1)\n",
        "y_pred_future = scaler.inverse_transform(prediction_copies)[:,9]"
      ],
      "metadata": {
        "id": "A68cGGUlkLp7"
      },
      "execution_count": 130,
      "outputs": []
    },
    {
      "cell_type": "code",
      "source": [
        "forecast_dates = []\n",
        "for time_i in predict_period_dates:\n",
        "    forecast_dates.append(time_i.date())\n",
        "    \n",
        "df_forecast = pd.DataFrame({'Date':np.array(forecast_dates), 'price':y_pred_future})\n",
        "df_forecast['Date']=pd.to_datetime(df_forecast['Date'])"
      ],
      "metadata": {
        "id": "RRg0e30rkPIK"
      },
      "execution_count": 131,
      "outputs": []
    },
    {
      "cell_type": "code",
      "source": [
        "original = df[['Date', 'price']]\n",
        "#original['Date']=pd.to_datetime(original['Date'])\n",
        "original\n"
      ],
      "metadata": {
        "colab": {
          "base_uri": "https://localhost:8080/",
          "height": 424
        },
        "id": "7PbdmSaPkUK7",
        "outputId": "396f3559-e92c-4138-8603-fbaa02d1ba45"
      },
      "execution_count": 132,
      "outputs": [
        {
          "output_type": "execute_result",
          "data": {
            "text/plain": [
              "            Date       price\n",
              "2550  2006-07-31  100.000000\n",
              "2551  2006-08-31   98.512211\n",
              "2552  2006-09-29   97.308362\n",
              "2553  2006-10-31   97.230316\n",
              "2554  2006-11-30   96.147446\n",
              "...          ...         ...\n",
              "2695  2018-08-31   92.342137\n",
              "2696  2018-09-28   92.674102\n",
              "2697  2018-10-31   92.495289\n",
              "2698  2018-11-30   92.979728\n",
              "2699  2018-12-31   92.759309\n",
              "\n",
              "[150 rows x 2 columns]"
            ],
            "text/html": [
              "\n",
              "  <div id=\"df-21ed524a-5575-4b60-85ff-92a3a57b8393\">\n",
              "    <div class=\"colab-df-container\">\n",
              "      <div>\n",
              "<style scoped>\n",
              "    .dataframe tbody tr th:only-of-type {\n",
              "        vertical-align: middle;\n",
              "    }\n",
              "\n",
              "    .dataframe tbody tr th {\n",
              "        vertical-align: top;\n",
              "    }\n",
              "\n",
              "    .dataframe thead th {\n",
              "        text-align: right;\n",
              "    }\n",
              "</style>\n",
              "<table border=\"1\" class=\"dataframe\">\n",
              "  <thead>\n",
              "    <tr style=\"text-align: right;\">\n",
              "      <th></th>\n",
              "      <th>Date</th>\n",
              "      <th>price</th>\n",
              "    </tr>\n",
              "  </thead>\n",
              "  <tbody>\n",
              "    <tr>\n",
              "      <th>2550</th>\n",
              "      <td>2006-07-31</td>\n",
              "      <td>100.000000</td>\n",
              "    </tr>\n",
              "    <tr>\n",
              "      <th>2551</th>\n",
              "      <td>2006-08-31</td>\n",
              "      <td>98.512211</td>\n",
              "    </tr>\n",
              "    <tr>\n",
              "      <th>2552</th>\n",
              "      <td>2006-09-29</td>\n",
              "      <td>97.308362</td>\n",
              "    </tr>\n",
              "    <tr>\n",
              "      <th>2553</th>\n",
              "      <td>2006-10-31</td>\n",
              "      <td>97.230316</td>\n",
              "    </tr>\n",
              "    <tr>\n",
              "      <th>2554</th>\n",
              "      <td>2006-11-30</td>\n",
              "      <td>96.147446</td>\n",
              "    </tr>\n",
              "    <tr>\n",
              "      <th>...</th>\n",
              "      <td>...</td>\n",
              "      <td>...</td>\n",
              "    </tr>\n",
              "    <tr>\n",
              "      <th>2695</th>\n",
              "      <td>2018-08-31</td>\n",
              "      <td>92.342137</td>\n",
              "    </tr>\n",
              "    <tr>\n",
              "      <th>2696</th>\n",
              "      <td>2018-09-28</td>\n",
              "      <td>92.674102</td>\n",
              "    </tr>\n",
              "    <tr>\n",
              "      <th>2697</th>\n",
              "      <td>2018-10-31</td>\n",
              "      <td>92.495289</td>\n",
              "    </tr>\n",
              "    <tr>\n",
              "      <th>2698</th>\n",
              "      <td>2018-11-30</td>\n",
              "      <td>92.979728</td>\n",
              "    </tr>\n",
              "    <tr>\n",
              "      <th>2699</th>\n",
              "      <td>2018-12-31</td>\n",
              "      <td>92.759309</td>\n",
              "    </tr>\n",
              "  </tbody>\n",
              "</table>\n",
              "<p>150 rows × 2 columns</p>\n",
              "</div>\n",
              "      <button class=\"colab-df-convert\" onclick=\"convertToInteractive('df-21ed524a-5575-4b60-85ff-92a3a57b8393')\"\n",
              "              title=\"Convert this dataframe to an interactive table.\"\n",
              "              style=\"display:none;\">\n",
              "        \n",
              "  <svg xmlns=\"http://www.w3.org/2000/svg\" height=\"24px\"viewBox=\"0 0 24 24\"\n",
              "       width=\"24px\">\n",
              "    <path d=\"M0 0h24v24H0V0z\" fill=\"none\"/>\n",
              "    <path d=\"M18.56 5.44l.94 2.06.94-2.06 2.06-.94-2.06-.94-.94-2.06-.94 2.06-2.06.94zm-11 1L8.5 8.5l.94-2.06 2.06-.94-2.06-.94L8.5 2.5l-.94 2.06-2.06.94zm10 10l.94 2.06.94-2.06 2.06-.94-2.06-.94-.94-2.06-.94 2.06-2.06.94z\"/><path d=\"M17.41 7.96l-1.37-1.37c-.4-.4-.92-.59-1.43-.59-.52 0-1.04.2-1.43.59L10.3 9.45l-7.72 7.72c-.78.78-.78 2.05 0 2.83L4 21.41c.39.39.9.59 1.41.59.51 0 1.02-.2 1.41-.59l7.78-7.78 2.81-2.81c.8-.78.8-2.07 0-2.86zM5.41 20L4 18.59l7.72-7.72 1.47 1.35L5.41 20z\"/>\n",
              "  </svg>\n",
              "      </button>\n",
              "      \n",
              "  <style>\n",
              "    .colab-df-container {\n",
              "      display:flex;\n",
              "      flex-wrap:wrap;\n",
              "      gap: 12px;\n",
              "    }\n",
              "\n",
              "    .colab-df-convert {\n",
              "      background-color: #E8F0FE;\n",
              "      border: none;\n",
              "      border-radius: 50%;\n",
              "      cursor: pointer;\n",
              "      display: none;\n",
              "      fill: #1967D2;\n",
              "      height: 32px;\n",
              "      padding: 0 0 0 0;\n",
              "      width: 32px;\n",
              "    }\n",
              "\n",
              "    .colab-df-convert:hover {\n",
              "      background-color: #E2EBFA;\n",
              "      box-shadow: 0px 1px 2px rgba(60, 64, 67, 0.3), 0px 1px 3px 1px rgba(60, 64, 67, 0.15);\n",
              "      fill: #174EA6;\n",
              "    }\n",
              "\n",
              "    [theme=dark] .colab-df-convert {\n",
              "      background-color: #3B4455;\n",
              "      fill: #D2E3FC;\n",
              "    }\n",
              "\n",
              "    [theme=dark] .colab-df-convert:hover {\n",
              "      background-color: #434B5C;\n",
              "      box-shadow: 0px 1px 3px 1px rgba(0, 0, 0, 0.15);\n",
              "      filter: drop-shadow(0px 1px 2px rgba(0, 0, 0, 0.3));\n",
              "      fill: #FFFFFF;\n",
              "    }\n",
              "  </style>\n",
              "\n",
              "      <script>\n",
              "        const buttonEl =\n",
              "          document.querySelector('#df-21ed524a-5575-4b60-85ff-92a3a57b8393 button.colab-df-convert');\n",
              "        buttonEl.style.display =\n",
              "          google.colab.kernel.accessAllowed ? 'block' : 'none';\n",
              "\n",
              "        async function convertToInteractive(key) {\n",
              "          const element = document.querySelector('#df-21ed524a-5575-4b60-85ff-92a3a57b8393');\n",
              "          const dataTable =\n",
              "            await google.colab.kernel.invokeFunction('convertToInteractive',\n",
              "                                                     [key], {});\n",
              "          if (!dataTable) return;\n",
              "\n",
              "          const docLinkHtml = 'Like what you see? Visit the ' +\n",
              "            '<a target=\"_blank\" href=https://colab.research.google.com/notebooks/data_table.ipynb>data table notebook</a>'\n",
              "            + ' to learn more about interactive tables.';\n",
              "          element.innerHTML = '';\n",
              "          dataTable['output_type'] = 'display_data';\n",
              "          await google.colab.output.renderOutput(dataTable, element);\n",
              "          const docLink = document.createElement('div');\n",
              "          docLink.innerHTML = docLinkHtml;\n",
              "          element.appendChild(docLink);\n",
              "        }\n",
              "      </script>\n",
              "    </div>\n",
              "  </div>\n",
              "  "
            ]
          },
          "metadata": {},
          "execution_count": 132
        }
      ]
    },
    {
      "cell_type": "code",
      "source": [
        "df_forecast"
      ],
      "metadata": {
        "colab": {
          "base_uri": "https://localhost:8080/",
          "height": 1000
        },
        "id": "uQKHlrzh2Jl6",
        "outputId": "2791b164-43f4-4599-d06f-b47f2a36d2f3"
      },
      "execution_count": 133,
      "outputs": [
        {
          "output_type": "execute_result",
          "data": {
            "text/plain": [
              "         Date      price\n",
              "0  2018-12-31  92.259094\n",
              "1  2019-01-31  92.081528\n",
              "2  2019-02-28  92.843941\n",
              "3  2019-03-31  93.212349\n",
              "4  2019-04-30  93.144325\n",
              "5  2019-05-31  92.834770\n",
              "6  2019-06-30  93.642097\n",
              "7  2019-07-31  94.461426\n",
              "8  2019-08-31  95.542763\n",
              "9  2019-09-30  95.402008\n",
              "10 2019-10-31  94.721222\n",
              "11 2019-11-30  94.255890\n",
              "12 2019-12-31  94.465469\n",
              "13 2020-01-31  94.443542\n",
              "14 2020-02-29  94.316040\n",
              "15 2020-03-31  94.311935\n",
              "16 2020-04-30  94.005508\n",
              "17 2020-05-31  94.269577\n",
              "18 2020-06-30  94.306320\n",
              "19 2020-07-31  94.019089\n",
              "20 2020-08-31  93.834663\n",
              "21 2020-09-30  94.176697\n",
              "22 2020-10-31  94.697029\n",
              "23 2020-11-30  95.310677\n",
              "24 2020-12-31  95.683266\n",
              "25 2021-01-31  95.699341\n",
              "26 2021-02-28  94.858437\n",
              "27 2021-03-31  94.124222\n",
              "28 2021-04-30  93.635719\n",
              "29 2021-05-31  93.041183\n",
              "30 2021-06-30  92.515854\n",
              "31 2021-07-31  91.612511\n",
              "32 2021-08-31  90.014542\n",
              "33 2021-09-30  89.306740\n",
              "34 2021-10-31  89.298286\n",
              "35 2021-11-30  89.433144\n",
              "36 2021-12-31  88.819328\n",
              "37 2022-01-31  88.384109\n",
              "38 2022-02-28  88.545647\n",
              "39 2022-03-31  88.145531\n",
              "40 2022-04-30  88.550941\n",
              "41 2022-05-31  88.523109\n",
              "42 2022-06-30  89.061203\n",
              "43 2022-07-31  89.513893\n",
              "44 2022-08-31  91.026360\n",
              "45 2022-09-30  91.550735\n",
              "46 2022-10-31  92.571655\n",
              "47 2022-11-30  92.802643\n",
              "48 2022-12-31  93.359741\n",
              "49 2023-01-31  93.687920"
            ],
            "text/html": [
              "\n",
              "  <div id=\"df-5fb3ebd9-a073-4e44-8771-52309c325e0d\">\n",
              "    <div class=\"colab-df-container\">\n",
              "      <div>\n",
              "<style scoped>\n",
              "    .dataframe tbody tr th:only-of-type {\n",
              "        vertical-align: middle;\n",
              "    }\n",
              "\n",
              "    .dataframe tbody tr th {\n",
              "        vertical-align: top;\n",
              "    }\n",
              "\n",
              "    .dataframe thead th {\n",
              "        text-align: right;\n",
              "    }\n",
              "</style>\n",
              "<table border=\"1\" class=\"dataframe\">\n",
              "  <thead>\n",
              "    <tr style=\"text-align: right;\">\n",
              "      <th></th>\n",
              "      <th>Date</th>\n",
              "      <th>price</th>\n",
              "    </tr>\n",
              "  </thead>\n",
              "  <tbody>\n",
              "    <tr>\n",
              "      <th>0</th>\n",
              "      <td>2018-12-31</td>\n",
              "      <td>92.259094</td>\n",
              "    </tr>\n",
              "    <tr>\n",
              "      <th>1</th>\n",
              "      <td>2019-01-31</td>\n",
              "      <td>92.081528</td>\n",
              "    </tr>\n",
              "    <tr>\n",
              "      <th>2</th>\n",
              "      <td>2019-02-28</td>\n",
              "      <td>92.843941</td>\n",
              "    </tr>\n",
              "    <tr>\n",
              "      <th>3</th>\n",
              "      <td>2019-03-31</td>\n",
              "      <td>93.212349</td>\n",
              "    </tr>\n",
              "    <tr>\n",
              "      <th>4</th>\n",
              "      <td>2019-04-30</td>\n",
              "      <td>93.144325</td>\n",
              "    </tr>\n",
              "    <tr>\n",
              "      <th>5</th>\n",
              "      <td>2019-05-31</td>\n",
              "      <td>92.834770</td>\n",
              "    </tr>\n",
              "    <tr>\n",
              "      <th>6</th>\n",
              "      <td>2019-06-30</td>\n",
              "      <td>93.642097</td>\n",
              "    </tr>\n",
              "    <tr>\n",
              "      <th>7</th>\n",
              "      <td>2019-07-31</td>\n",
              "      <td>94.461426</td>\n",
              "    </tr>\n",
              "    <tr>\n",
              "      <th>8</th>\n",
              "      <td>2019-08-31</td>\n",
              "      <td>95.542763</td>\n",
              "    </tr>\n",
              "    <tr>\n",
              "      <th>9</th>\n",
              "      <td>2019-09-30</td>\n",
              "      <td>95.402008</td>\n",
              "    </tr>\n",
              "    <tr>\n",
              "      <th>10</th>\n",
              "      <td>2019-10-31</td>\n",
              "      <td>94.721222</td>\n",
              "    </tr>\n",
              "    <tr>\n",
              "      <th>11</th>\n",
              "      <td>2019-11-30</td>\n",
              "      <td>94.255890</td>\n",
              "    </tr>\n",
              "    <tr>\n",
              "      <th>12</th>\n",
              "      <td>2019-12-31</td>\n",
              "      <td>94.465469</td>\n",
              "    </tr>\n",
              "    <tr>\n",
              "      <th>13</th>\n",
              "      <td>2020-01-31</td>\n",
              "      <td>94.443542</td>\n",
              "    </tr>\n",
              "    <tr>\n",
              "      <th>14</th>\n",
              "      <td>2020-02-29</td>\n",
              "      <td>94.316040</td>\n",
              "    </tr>\n",
              "    <tr>\n",
              "      <th>15</th>\n",
              "      <td>2020-03-31</td>\n",
              "      <td>94.311935</td>\n",
              "    </tr>\n",
              "    <tr>\n",
              "      <th>16</th>\n",
              "      <td>2020-04-30</td>\n",
              "      <td>94.005508</td>\n",
              "    </tr>\n",
              "    <tr>\n",
              "      <th>17</th>\n",
              "      <td>2020-05-31</td>\n",
              "      <td>94.269577</td>\n",
              "    </tr>\n",
              "    <tr>\n",
              "      <th>18</th>\n",
              "      <td>2020-06-30</td>\n",
              "      <td>94.306320</td>\n",
              "    </tr>\n",
              "    <tr>\n",
              "      <th>19</th>\n",
              "      <td>2020-07-31</td>\n",
              "      <td>94.019089</td>\n",
              "    </tr>\n",
              "    <tr>\n",
              "      <th>20</th>\n",
              "      <td>2020-08-31</td>\n",
              "      <td>93.834663</td>\n",
              "    </tr>\n",
              "    <tr>\n",
              "      <th>21</th>\n",
              "      <td>2020-09-30</td>\n",
              "      <td>94.176697</td>\n",
              "    </tr>\n",
              "    <tr>\n",
              "      <th>22</th>\n",
              "      <td>2020-10-31</td>\n",
              "      <td>94.697029</td>\n",
              "    </tr>\n",
              "    <tr>\n",
              "      <th>23</th>\n",
              "      <td>2020-11-30</td>\n",
              "      <td>95.310677</td>\n",
              "    </tr>\n",
              "    <tr>\n",
              "      <th>24</th>\n",
              "      <td>2020-12-31</td>\n",
              "      <td>95.683266</td>\n",
              "    </tr>\n",
              "    <tr>\n",
              "      <th>25</th>\n",
              "      <td>2021-01-31</td>\n",
              "      <td>95.699341</td>\n",
              "    </tr>\n",
              "    <tr>\n",
              "      <th>26</th>\n",
              "      <td>2021-02-28</td>\n",
              "      <td>94.858437</td>\n",
              "    </tr>\n",
              "    <tr>\n",
              "      <th>27</th>\n",
              "      <td>2021-03-31</td>\n",
              "      <td>94.124222</td>\n",
              "    </tr>\n",
              "    <tr>\n",
              "      <th>28</th>\n",
              "      <td>2021-04-30</td>\n",
              "      <td>93.635719</td>\n",
              "    </tr>\n",
              "    <tr>\n",
              "      <th>29</th>\n",
              "      <td>2021-05-31</td>\n",
              "      <td>93.041183</td>\n",
              "    </tr>\n",
              "    <tr>\n",
              "      <th>30</th>\n",
              "      <td>2021-06-30</td>\n",
              "      <td>92.515854</td>\n",
              "    </tr>\n",
              "    <tr>\n",
              "      <th>31</th>\n",
              "      <td>2021-07-31</td>\n",
              "      <td>91.612511</td>\n",
              "    </tr>\n",
              "    <tr>\n",
              "      <th>32</th>\n",
              "      <td>2021-08-31</td>\n",
              "      <td>90.014542</td>\n",
              "    </tr>\n",
              "    <tr>\n",
              "      <th>33</th>\n",
              "      <td>2021-09-30</td>\n",
              "      <td>89.306740</td>\n",
              "    </tr>\n",
              "    <tr>\n",
              "      <th>34</th>\n",
              "      <td>2021-10-31</td>\n",
              "      <td>89.298286</td>\n",
              "    </tr>\n",
              "    <tr>\n",
              "      <th>35</th>\n",
              "      <td>2021-11-30</td>\n",
              "      <td>89.433144</td>\n",
              "    </tr>\n",
              "    <tr>\n",
              "      <th>36</th>\n",
              "      <td>2021-12-31</td>\n",
              "      <td>88.819328</td>\n",
              "    </tr>\n",
              "    <tr>\n",
              "      <th>37</th>\n",
              "      <td>2022-01-31</td>\n",
              "      <td>88.384109</td>\n",
              "    </tr>\n",
              "    <tr>\n",
              "      <th>38</th>\n",
              "      <td>2022-02-28</td>\n",
              "      <td>88.545647</td>\n",
              "    </tr>\n",
              "    <tr>\n",
              "      <th>39</th>\n",
              "      <td>2022-03-31</td>\n",
              "      <td>88.145531</td>\n",
              "    </tr>\n",
              "    <tr>\n",
              "      <th>40</th>\n",
              "      <td>2022-04-30</td>\n",
              "      <td>88.550941</td>\n",
              "    </tr>\n",
              "    <tr>\n",
              "      <th>41</th>\n",
              "      <td>2022-05-31</td>\n",
              "      <td>88.523109</td>\n",
              "    </tr>\n",
              "    <tr>\n",
              "      <th>42</th>\n",
              "      <td>2022-06-30</td>\n",
              "      <td>89.061203</td>\n",
              "    </tr>\n",
              "    <tr>\n",
              "      <th>43</th>\n",
              "      <td>2022-07-31</td>\n",
              "      <td>89.513893</td>\n",
              "    </tr>\n",
              "    <tr>\n",
              "      <th>44</th>\n",
              "      <td>2022-08-31</td>\n",
              "      <td>91.026360</td>\n",
              "    </tr>\n",
              "    <tr>\n",
              "      <th>45</th>\n",
              "      <td>2022-09-30</td>\n",
              "      <td>91.550735</td>\n",
              "    </tr>\n",
              "    <tr>\n",
              "      <th>46</th>\n",
              "      <td>2022-10-31</td>\n",
              "      <td>92.571655</td>\n",
              "    </tr>\n",
              "    <tr>\n",
              "      <th>47</th>\n",
              "      <td>2022-11-30</td>\n",
              "      <td>92.802643</td>\n",
              "    </tr>\n",
              "    <tr>\n",
              "      <th>48</th>\n",
              "      <td>2022-12-31</td>\n",
              "      <td>93.359741</td>\n",
              "    </tr>\n",
              "    <tr>\n",
              "      <th>49</th>\n",
              "      <td>2023-01-31</td>\n",
              "      <td>93.687920</td>\n",
              "    </tr>\n",
              "  </tbody>\n",
              "</table>\n",
              "</div>\n",
              "      <button class=\"colab-df-convert\" onclick=\"convertToInteractive('df-5fb3ebd9-a073-4e44-8771-52309c325e0d')\"\n",
              "              title=\"Convert this dataframe to an interactive table.\"\n",
              "              style=\"display:none;\">\n",
              "        \n",
              "  <svg xmlns=\"http://www.w3.org/2000/svg\" height=\"24px\"viewBox=\"0 0 24 24\"\n",
              "       width=\"24px\">\n",
              "    <path d=\"M0 0h24v24H0V0z\" fill=\"none\"/>\n",
              "    <path d=\"M18.56 5.44l.94 2.06.94-2.06 2.06-.94-2.06-.94-.94-2.06-.94 2.06-2.06.94zm-11 1L8.5 8.5l.94-2.06 2.06-.94-2.06-.94L8.5 2.5l-.94 2.06-2.06.94zm10 10l.94 2.06.94-2.06 2.06-.94-2.06-.94-.94-2.06-.94 2.06-2.06.94z\"/><path d=\"M17.41 7.96l-1.37-1.37c-.4-.4-.92-.59-1.43-.59-.52 0-1.04.2-1.43.59L10.3 9.45l-7.72 7.72c-.78.78-.78 2.05 0 2.83L4 21.41c.39.39.9.59 1.41.59.51 0 1.02-.2 1.41-.59l7.78-7.78 2.81-2.81c.8-.78.8-2.07 0-2.86zM5.41 20L4 18.59l7.72-7.72 1.47 1.35L5.41 20z\"/>\n",
              "  </svg>\n",
              "      </button>\n",
              "      \n",
              "  <style>\n",
              "    .colab-df-container {\n",
              "      display:flex;\n",
              "      flex-wrap:wrap;\n",
              "      gap: 12px;\n",
              "    }\n",
              "\n",
              "    .colab-df-convert {\n",
              "      background-color: #E8F0FE;\n",
              "      border: none;\n",
              "      border-radius: 50%;\n",
              "      cursor: pointer;\n",
              "      display: none;\n",
              "      fill: #1967D2;\n",
              "      height: 32px;\n",
              "      padding: 0 0 0 0;\n",
              "      width: 32px;\n",
              "    }\n",
              "\n",
              "    .colab-df-convert:hover {\n",
              "      background-color: #E2EBFA;\n",
              "      box-shadow: 0px 1px 2px rgba(60, 64, 67, 0.3), 0px 1px 3px 1px rgba(60, 64, 67, 0.15);\n",
              "      fill: #174EA6;\n",
              "    }\n",
              "\n",
              "    [theme=dark] .colab-df-convert {\n",
              "      background-color: #3B4455;\n",
              "      fill: #D2E3FC;\n",
              "    }\n",
              "\n",
              "    [theme=dark] .colab-df-convert:hover {\n",
              "      background-color: #434B5C;\n",
              "      box-shadow: 0px 1px 3px 1px rgba(0, 0, 0, 0.15);\n",
              "      filter: drop-shadow(0px 1px 2px rgba(0, 0, 0, 0.3));\n",
              "      fill: #FFFFFF;\n",
              "    }\n",
              "  </style>\n",
              "\n",
              "      <script>\n",
              "        const buttonEl =\n",
              "          document.querySelector('#df-5fb3ebd9-a073-4e44-8771-52309c325e0d button.colab-df-convert');\n",
              "        buttonEl.style.display =\n",
              "          google.colab.kernel.accessAllowed ? 'block' : 'none';\n",
              "\n",
              "        async function convertToInteractive(key) {\n",
              "          const element = document.querySelector('#df-5fb3ebd9-a073-4e44-8771-52309c325e0d');\n",
              "          const dataTable =\n",
              "            await google.colab.kernel.invokeFunction('convertToInteractive',\n",
              "                                                     [key], {});\n",
              "          if (!dataTable) return;\n",
              "\n",
              "          const docLinkHtml = 'Like what you see? Visit the ' +\n",
              "            '<a target=\"_blank\" href=https://colab.research.google.com/notebooks/data_table.ipynb>data table notebook</a>'\n",
              "            + ' to learn more about interactive tables.';\n",
              "          element.innerHTML = '';\n",
              "          dataTable['output_type'] = 'display_data';\n",
              "          await google.colab.output.renderOutput(dataTable, element);\n",
              "          const docLink = document.createElement('div');\n",
              "          docLink.innerHTML = docLinkHtml;\n",
              "          element.appendChild(docLink);\n",
              "        }\n",
              "      </script>\n",
              "    </div>\n",
              "  </div>\n",
              "  "
            ]
          },
          "metadata": {},
          "execution_count": 133
        }
      ]
    },
    {
      "cell_type": "code",
      "source": [
        "original.plot(x='Date', y='price')\n",
        "f_forecast = pd.concat([original,df_forecast],axis=0)\n",
        "f_forecast.plot(x='Date',y='price')\n"
      ],
      "metadata": {
        "colab": {
          "base_uri": "https://localhost:8080/",
          "height": 898
        },
        "id": "RLBZ0Dddla_5",
        "outputId": "ab3201ac-a9fd-4fbe-c8ee-0dbe1e19c493"
      },
      "execution_count": 134,
      "outputs": [
        {
          "output_type": "execute_result",
          "data": {
            "text/plain": [
              "<Axes: xlabel='Date'>"
            ]
          },
          "metadata": {},
          "execution_count": 134
        },
        {
          "output_type": "display_data",
          "data": {
            "text/plain": [
              "<Figure size 640x480 with 1 Axes>"
            ],
            "image/png": "[encoded data removed]"
          },
          "metadata": {}
        },
        {
          "output_type": "display_data",
          "data": {
            "text/plain": [
              "<Figure size 640x480 with 1 Axes>"
            ],
            "image/png": "[encoded data removed]"
          },
          "metadata": {}
        }
      ]
    },
    {
      "cell_type": "code",
      "source": [
        "forcasted = df_forecast\n",
        "forcasted_values = forcasted.loc[:,\"price\"]\n",
        "forcasted_values = forcasted_values.tolist()\n",
        "og_prices = df['price'].values[100:]\n",
        "\n",
        "eff = []\n",
        "for i in range (0, len(og_prices)):\n",
        "  b = 100 - ((abs(og_prices[i] - forcasted_values[i]))/og_prices[i])*100\n",
        "  eff.append(b)\n",
        "  \n",
        "print(eff) "
      ],
      "metadata": {
        "colab": {
          "base_uri": "https://localhost:8080/"
        },
        "id": "azq46eyM4dCJ",
        "outputId": "f40ff0e6-b831-4ca7-c686-7e1ed1dfd36c"
      },
      "execution_count": 135,
      "outputs": [
        {
          "output_type": "stream",
          "name": "stdout",
          "text": [
            "[99.8507473903421, 99.99207103967842, 99.54182452835987, 99.21846516789003, 99.66207594070089, 99.69833580144726, 99.819305516841, 99.85938934810513, 99.74506682772757, 99.9514651212047, 99.683546819015, 99.20169528476626, 99.4814822972577, 99.9198100568754, 99.47062780510967, 99.82571508119157, 99.87903867905169, 99.90224359294012, 99.92048244003212, 99.90723180345492, 99.43099053128205, 98.72663412685317, 97.91546397204063, 98.80317573521253, 99.63766788221814, 99.97340880819596, 99.85945245831647, 99.9833281415617, 99.56035317610512, 99.47783424617492, 99.26044705653267, 99.21620964238271, 99.20017243811748, 99.15527721050992, 99.85132682793885, 99.11708114942708, 98.7435716849143, 98.75701060936795, 98.66985418252101, 98.66330374309706, 98.47347945848479, 98.8726480912012, 98.88989760906526, 98.7442852641835, 98.68858540605916, 99.14296858582186, 99.88945465168318, 99.66770914540758, 99.5912940812415, 98.99890299385807]\n"
          ]
        }
      ]
    },
    {
      "cell_type": "code",
      "source": [
        "avgeff = np.average(eff)\n",
        "print(avgeff)"
      ],
      "metadata": {
        "colab": {
          "base_uri": "https://localhost:8080/"
        },
        "id": "f2wcfT2942cn",
        "outputId": "3a582e83-ea5a-421f-ce07-313953f83bf3"
      },
      "execution_count": 136,
      "outputs": [
        {
          "output_type": "stream",
          "name": "stdout",
          "text": [
            "99.38984818903535\n"
          ]
        }
      ]
    }
  ]
}